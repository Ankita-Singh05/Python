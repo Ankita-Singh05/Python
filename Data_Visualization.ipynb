{
  "nbformat": 4,
  "nbformat_minor": 0,
  "metadata": {
    "colab": {
      "name": "Feb-08_Lecture.ipynb",
      "provenance": [],
      "collapsed_sections": [],
      "mount_file_id": "1D2AJxsVyAFoH8BPRCmkdvkKlXw9Gc5WI",
      "authorship_tag": "ABX9TyNHM3CGl/T2yrJHbe5UOfvZ",
      "include_colab_link": true
    },
    "kernelspec": {
      "name": "python3",
      "display_name": "Python 3"
    }
  },
  "cells": [
    {
      "cell_type": "markdown",
      "metadata": {
        "id": "view-in-github",
        "colab_type": "text"
      },
      "source": [
        "<a href=\"https://colab.research.google.com/github/Ankita-Singh05/Python/blob/main/Data_Visulization.ipynb\" target=\"_parent\"><img src=\"https://colab.research.google.com/assets/colab-badge.svg\" alt=\"Open In Colab\"/></a>"
      ]
    },
    {
      "cell_type": "code",
      "metadata": {
        "id": "8bhawKReEZZr"
      },
      "source": [
        "import pandas as pd\r\n",
        "import matplotlib.pyplot as plt"
      ],
      "execution_count": 13,
      "outputs": []
    },
    {
      "cell_type": "code",
      "metadata": {
        "id": "X9KRc5kjJZ6G"
      },
      "source": [
        "countries = pd.read_csv(\"/content/drive/MyDrive/Colab Notebooks/C4-Data-Visualization-using-Matplotlib/datasets/countries.csv\")"
      ],
      "execution_count": 2,
      "outputs": []
    },
    {
      "cell_type": "code",
      "metadata": {
        "id": "eMWvzTcVJd1t"
      },
      "source": [
        "exams = pd.read_csv(\"/content/drive/MyDrive/Colab Notebooks/C4-Data-Visualization-using-Matplotlib/datasets/exams.csv\")"
      ],
      "execution_count": 3,
      "outputs": []
    },
    {
      "cell_type": "code",
      "metadata": {
        "id": "7Ab47QRcJimM"
      },
      "source": [
        "n_parks = pd.read_csv(\"/content/drive/MyDrive/Colab Notebooks/C4-Data-Visualization-using-Matplotlib/datasets/national_parks.csv\")"
      ],
      "execution_count": 4,
      "outputs": []
    },
    {
      "cell_type": "code",
      "metadata": {
        "id": "KTozVrkpJnqA"
      },
      "source": [
        "stocks = pd.read_csv(\"/content/drive/MyDrive/Colab Notebooks/C4-Data-Visualization-using-Matplotlib/datasets/stocks.csv\")"
      ],
      "execution_count": 5,
      "outputs": []
    },
    {
      "cell_type": "code",
      "metadata": {
        "id": "xHiYqKEdJrff"
      },
      "source": [
        "movies = pd.read_csv(\"/content/drive/MyDrive/Colab Notebooks/C4-Data-Visualization-using-Matplotlib/datasets/types_movies.csv\")"
      ],
      "execution_count": 6,
      "outputs": []
    },
    {
      "cell_type": "code",
      "metadata": {
        "colab": {
          "base_uri": "https://localhost:8080/",
          "height": 202
        },
        "id": "5fbLQ6y1Jvw4",
        "outputId": "37f84c7d-58b6-40f3-ee97-2153374bebd3"
      },
      "source": [
        "countries.head()"
      ],
      "execution_count": 7,
      "outputs": [
        {
          "output_type": "execute_result",
          "data": {
            "text/html": [
              "<div>\n",
              "<style scoped>\n",
              "    .dataframe tbody tr th:only-of-type {\n",
              "        vertical-align: middle;\n",
              "    }\n",
              "\n",
              "    .dataframe tbody tr th {\n",
              "        vertical-align: top;\n",
              "    }\n",
              "\n",
              "    .dataframe thead th {\n",
              "        text-align: right;\n",
              "    }\n",
              "</style>\n",
              "<table border=\"1\" class=\"dataframe\">\n",
              "  <thead>\n",
              "    <tr style=\"text-align: right;\">\n",
              "      <th></th>\n",
              "      <th>country</th>\n",
              "      <th>continent</th>\n",
              "      <th>year</th>\n",
              "      <th>lifeExpectancy</th>\n",
              "      <th>population</th>\n",
              "      <th>gdpPerCapita</th>\n",
              "    </tr>\n",
              "  </thead>\n",
              "  <tbody>\n",
              "    <tr>\n",
              "      <th>0</th>\n",
              "      <td>Afghanistan</td>\n",
              "      <td>Asia</td>\n",
              "      <td>1952</td>\n",
              "      <td>28.801</td>\n",
              "      <td>8425333</td>\n",
              "      <td>779.445314</td>\n",
              "    </tr>\n",
              "    <tr>\n",
              "      <th>1</th>\n",
              "      <td>Afghanistan</td>\n",
              "      <td>Asia</td>\n",
              "      <td>1957</td>\n",
              "      <td>30.332</td>\n",
              "      <td>9240934</td>\n",
              "      <td>820.853030</td>\n",
              "    </tr>\n",
              "    <tr>\n",
              "      <th>2</th>\n",
              "      <td>Afghanistan</td>\n",
              "      <td>Asia</td>\n",
              "      <td>1962</td>\n",
              "      <td>31.997</td>\n",
              "      <td>10267083</td>\n",
              "      <td>853.100710</td>\n",
              "    </tr>\n",
              "    <tr>\n",
              "      <th>3</th>\n",
              "      <td>Afghanistan</td>\n",
              "      <td>Asia</td>\n",
              "      <td>1967</td>\n",
              "      <td>34.020</td>\n",
              "      <td>11537966</td>\n",
              "      <td>836.197138</td>\n",
              "    </tr>\n",
              "    <tr>\n",
              "      <th>4</th>\n",
              "      <td>Afghanistan</td>\n",
              "      <td>Asia</td>\n",
              "      <td>1972</td>\n",
              "      <td>36.088</td>\n",
              "      <td>13079460</td>\n",
              "      <td>739.981106</td>\n",
              "    </tr>\n",
              "  </tbody>\n",
              "</table>\n",
              "</div>"
            ],
            "text/plain": [
              "       country continent  year  lifeExpectancy  population  gdpPerCapita\n",
              "0  Afghanistan      Asia  1952          28.801     8425333    779.445314\n",
              "1  Afghanistan      Asia  1957          30.332     9240934    820.853030\n",
              "2  Afghanistan      Asia  1962          31.997    10267083    853.100710\n",
              "3  Afghanistan      Asia  1967          34.020    11537966    836.197138\n",
              "4  Afghanistan      Asia  1972          36.088    13079460    739.981106"
            ]
          },
          "metadata": {
            "tags": []
          },
          "execution_count": 7
        }
      ]
    },
    {
      "cell_type": "code",
      "metadata": {
        "id": "2Oy7_zTWO3GH"
      },
      "source": [
        "data_2007 = countries[countries['year']==2007]"
      ],
      "execution_count": 8,
      "outputs": []
    },
    {
      "cell_type": "code",
      "metadata": {
        "id": "ndMH6ItERMZ_"
      },
      "source": [
        "top_10 = data_2007.sort_values('population', ascending=False).head(10)"
      ],
      "execution_count": 9,
      "outputs": []
    },
    {
      "cell_type": "code",
      "metadata": {
        "colab": {
          "base_uri": "https://localhost:8080/",
          "height": 355
        },
        "id": "x_Rx-uGhRbmG",
        "outputId": "36e7d480-56cd-4f87-d801-300e5e2bb347"
      },
      "source": [
        "top_10"
      ],
      "execution_count": 10,
      "outputs": [
        {
          "output_type": "execute_result",
          "data": {
            "text/html": [
              "<div>\n",
              "<style scoped>\n",
              "    .dataframe tbody tr th:only-of-type {\n",
              "        vertical-align: middle;\n",
              "    }\n",
              "\n",
              "    .dataframe tbody tr th {\n",
              "        vertical-align: top;\n",
              "    }\n",
              "\n",
              "    .dataframe thead th {\n",
              "        text-align: right;\n",
              "    }\n",
              "</style>\n",
              "<table border=\"1\" class=\"dataframe\">\n",
              "  <thead>\n",
              "    <tr style=\"text-align: right;\">\n",
              "      <th></th>\n",
              "      <th>country</th>\n",
              "      <th>continent</th>\n",
              "      <th>year</th>\n",
              "      <th>lifeExpectancy</th>\n",
              "      <th>population</th>\n",
              "      <th>gdpPerCapita</th>\n",
              "    </tr>\n",
              "  </thead>\n",
              "  <tbody>\n",
              "    <tr>\n",
              "      <th>299</th>\n",
              "      <td>China</td>\n",
              "      <td>Asia</td>\n",
              "      <td>2007</td>\n",
              "      <td>72.961</td>\n",
              "      <td>1318683096</td>\n",
              "      <td>4959.114854</td>\n",
              "    </tr>\n",
              "    <tr>\n",
              "      <th>707</th>\n",
              "      <td>India</td>\n",
              "      <td>Asia</td>\n",
              "      <td>2007</td>\n",
              "      <td>64.698</td>\n",
              "      <td>1110396331</td>\n",
              "      <td>2452.210407</td>\n",
              "    </tr>\n",
              "    <tr>\n",
              "      <th>1619</th>\n",
              "      <td>United States</td>\n",
              "      <td>Americas</td>\n",
              "      <td>2007</td>\n",
              "      <td>78.242</td>\n",
              "      <td>301139947</td>\n",
              "      <td>42951.653090</td>\n",
              "    </tr>\n",
              "    <tr>\n",
              "      <th>719</th>\n",
              "      <td>Indonesia</td>\n",
              "      <td>Asia</td>\n",
              "      <td>2007</td>\n",
              "      <td>70.650</td>\n",
              "      <td>223547000</td>\n",
              "      <td>3540.651564</td>\n",
              "    </tr>\n",
              "    <tr>\n",
              "      <th>179</th>\n",
              "      <td>Brazil</td>\n",
              "      <td>Americas</td>\n",
              "      <td>2007</td>\n",
              "      <td>72.390</td>\n",
              "      <td>190010647</td>\n",
              "      <td>9065.800825</td>\n",
              "    </tr>\n",
              "    <tr>\n",
              "      <th>1175</th>\n",
              "      <td>Pakistan</td>\n",
              "      <td>Asia</td>\n",
              "      <td>2007</td>\n",
              "      <td>65.483</td>\n",
              "      <td>169270617</td>\n",
              "      <td>2605.947580</td>\n",
              "    </tr>\n",
              "    <tr>\n",
              "      <th>107</th>\n",
              "      <td>Bangladesh</td>\n",
              "      <td>Asia</td>\n",
              "      <td>2007</td>\n",
              "      <td>64.062</td>\n",
              "      <td>150448339</td>\n",
              "      <td>1391.253792</td>\n",
              "    </tr>\n",
              "    <tr>\n",
              "      <th>1139</th>\n",
              "      <td>Nigeria</td>\n",
              "      <td>Africa</td>\n",
              "      <td>2007</td>\n",
              "      <td>46.859</td>\n",
              "      <td>135031164</td>\n",
              "      <td>2013.977305</td>\n",
              "    </tr>\n",
              "    <tr>\n",
              "      <th>803</th>\n",
              "      <td>Japan</td>\n",
              "      <td>Asia</td>\n",
              "      <td>2007</td>\n",
              "      <td>82.603</td>\n",
              "      <td>127467972</td>\n",
              "      <td>31656.068060</td>\n",
              "    </tr>\n",
              "    <tr>\n",
              "      <th>995</th>\n",
              "      <td>Mexico</td>\n",
              "      <td>Americas</td>\n",
              "      <td>2007</td>\n",
              "      <td>76.195</td>\n",
              "      <td>108700891</td>\n",
              "      <td>11977.574960</td>\n",
              "    </tr>\n",
              "  </tbody>\n",
              "</table>\n",
              "</div>"
            ],
            "text/plain": [
              "            country continent  year  lifeExpectancy  population  gdpPerCapita\n",
              "299           China      Asia  2007          72.961  1318683096   4959.114854\n",
              "707           India      Asia  2007          64.698  1110396331   2452.210407\n",
              "1619  United States  Americas  2007          78.242   301139947  42951.653090\n",
              "719       Indonesia      Asia  2007          70.650   223547000   3540.651564\n",
              "179          Brazil  Americas  2007          72.390   190010647   9065.800825\n",
              "1175       Pakistan      Asia  2007          65.483   169270617   2605.947580\n",
              "107      Bangladesh      Asia  2007          64.062   150448339   1391.253792\n",
              "1139        Nigeria    Africa  2007          46.859   135031164   2013.977305\n",
              "803           Japan      Asia  2007          82.603   127467972  31656.068060\n",
              "995          Mexico  Americas  2007          76.195   108700891  11977.574960"
            ]
          },
          "metadata": {
            "tags": []
          },
          "execution_count": 10
        }
      ]
    },
    {
      "cell_type": "code",
      "metadata": {
        "colab": {
          "base_uri": "https://localhost:8080/",
          "height": 391
        },
        "id": "r44-IXMYRckY",
        "outputId": "aa004333-d432-499c-9234-3ef3a715bb9c"
      },
      "source": [
        "plt.figure(figsize=(12,6))\r\n",
        "x=range(10)\r\n",
        "plt.bar(x, top_10['population']/10**9)"
      ],
      "execution_count": 21,
      "outputs": [
        {
          "output_type": "execute_result",
          "data": {
            "text/plain": [
              "<BarContainer object of 10 artists>"
            ]
          },
          "metadata": {
            "tags": []
          },
          "execution_count": 21
        },
        {
          "output_type": "display_data",
          "data": {
            "image/png": "[encoded data removed]",
            "text/plain": [
              "<Figure size 864x432 with 1 Axes>"
            ]
          },
          "metadata": {
            "tags": [],
            "needs_background": "light"
          }
        }
      ]
    },
    {
      "cell_type": "code",
      "metadata": {
        "colab": {
          "base_uri": "https://localhost:8080/",
          "height": 404
        },
        "id": "rUOVJ8nsSOml",
        "outputId": "877246a8-d83b-4945-865d-78094ca4f7e3"
      },
      "source": [
        "plt.figure(figsize=(12,6))\r\n",
        "x=range(10)\r\n",
        "plt.bar(x, top_10['population']/10**9)\r\n",
        "plt.xticks(x,top_10['country'])\r\n",
        "plt.xlabel('Countries')\r\n",
        "plt.ylabel('Population in billions')\r\n",
        "plt.title('10 most populous countries in 2007')\r\n",
        "plt.show()"
      ],
      "execution_count": 29,
      "outputs": [
        {
          "output_type": "display_data",
          "data": {
            "image/png": "[encoded data removed]",
            "text/plain": [
              "<Figure size 864x432 with 1 Axes>"
            ]
          },
          "metadata": {
            "tags": [],
            "needs_background": "light"
          }
        }
      ]
    },
    {
      "cell_type": "code",
      "metadata": {
        "colab": {
          "base_uri": "https://localhost:8080/",
          "height": 202
        },
        "id": "DjYYdaDpTNRv",
        "outputId": "7ce091c5-54b9-4d45-c725-917e7ad68aba"
      },
      "source": [
        "n_parks.head()"
      ],
      "execution_count": 30,
      "outputs": [
        {
          "output_type": "execute_result",
          "data": {
            "text/html": [
              "<div>\n",
              "<style scoped>\n",
              "    .dataframe tbody tr th:only-of-type {\n",
              "        vertical-align: middle;\n",
              "    }\n",
              "\n",
              "    .dataframe tbody tr th {\n",
              "        vertical-align: top;\n",
              "    }\n",
              "\n",
              "    .dataframe thead th {\n",
              "        text-align: right;\n",
              "    }\n",
              "</style>\n",
              "<table border=\"1\" class=\"dataframe\">\n",
              "  <thead>\n",
              "    <tr style=\"text-align: right;\">\n",
              "      <th></th>\n",
              "      <th>Year</th>\n",
              "      <th>Badlands</th>\n",
              "      <th>GrandCanyon</th>\n",
              "      <th>BryceCanyon</th>\n",
              "    </tr>\n",
              "  </thead>\n",
              "  <tbody>\n",
              "    <tr>\n",
              "      <th>0</th>\n",
              "      <td>1961</td>\n",
              "      <td>833300</td>\n",
              "      <td>1253000</td>\n",
              "      <td>264800</td>\n",
              "    </tr>\n",
              "    <tr>\n",
              "      <th>1</th>\n",
              "      <td>1962</td>\n",
              "      <td>1044800</td>\n",
              "      <td>1447400</td>\n",
              "      <td>251000</td>\n",
              "    </tr>\n",
              "    <tr>\n",
              "      <th>2</th>\n",
              "      <td>1963</td>\n",
              "      <td>1074000</td>\n",
              "      <td>1539500</td>\n",
              "      <td>289500</td>\n",
              "    </tr>\n",
              "    <tr>\n",
              "      <th>3</th>\n",
              "      <td>1964</td>\n",
              "      <td>1079800</td>\n",
              "      <td>1576600</td>\n",
              "      <td>300300</td>\n",
              "    </tr>\n",
              "    <tr>\n",
              "      <th>4</th>\n",
              "      <td>1965</td>\n",
              "      <td>1091300</td>\n",
              "      <td>1689200</td>\n",
              "      <td>366800</td>\n",
              "    </tr>\n",
              "  </tbody>\n",
              "</table>\n",
              "</div>"
            ],
            "text/plain": [
              "   Year  Badlands  GrandCanyon  BryceCanyon\n",
              "0  1961    833300      1253000       264800\n",
              "1  1962   1044800      1447400       251000\n",
              "2  1963   1074000      1539500       289500\n",
              "3  1964   1079800      1576600       300300\n",
              "4  1965   1091300      1689200       366800"
            ]
          },
          "metadata": {
            "tags": []
          },
          "execution_count": 30
        }
      ]
    },
    {
      "cell_type": "code",
      "metadata": {
        "colab": {
          "base_uri": "https://localhost:8080/"
        },
        "id": "aeampTP5UM0p",
        "outputId": "19d35614-329b-40a9-b4cb-4103b971441a"
      },
      "source": [
        "n_parks.shape"
      ],
      "execution_count": 31,
      "outputs": [
        {
          "output_type": "execute_result",
          "data": {
            "text/plain": [
              "(57, 4)"
            ]
          },
          "metadata": {
            "tags": []
          },
          "execution_count": 31
        }
      ]
    },
    {
      "cell_type": "code",
      "metadata": {
        "colab": {
          "base_uri": "https://localhost:8080/",
          "height": 347
        },
        "id": "LMPgkTtAUU4s",
        "outputId": "e6ab77fd-aff2-4163-8468-727f9d2ea9af"
      },
      "source": [
        "plt.hist(n_parks['GrandCanyon'])"
      ],
      "execution_count": 33,
      "outputs": [
        {
          "output_type": "execute_result",
          "data": {
            "text/plain": [
              "(array([ 5.,  9., 10.,  2.,  1.,  9., 16.,  2.,  1.,  2.]),\n",
              " array([1253000. , 1753123.8, 2253247.6, 2753371.4, 3253495.2, 3753619. ,\n",
              "        4253742.8, 4753866.6, 5253990.4, 5754114.2, 6254238. ]),\n",
              " <a list of 10 Patch objects>)"
            ]
          },
          "metadata": {
            "tags": []
          },
          "execution_count": 33
        },
        {
          "output_type": "display_data",
          "data": {
            "image/png": "[encoded data removed]",
            "text/plain": [
              "<Figure size 432x288 with 1 Axes>"
            ]
          },
          "metadata": {
            "tags": [],
            "needs_background": "light"
          }
        }
      ]
    },
    {
      "cell_type": "code",
      "metadata": {
        "colab": {
          "base_uri": "https://localhost:8080/",
          "height": 347
        },
        "id": "l_A5LHpkUgHt",
        "outputId": "6da6002a-64a4-4653-ca51-13064afb9027"
      },
      "source": [
        "plt.hist(n_parks['GrandCanyon'],\r\n",
        "         facecolor='peru',\r\n",
        "         edgecolor='blue')"
      ],
      "execution_count": 36,
      "outputs": [
        {
          "output_type": "execute_result",
          "data": {
            "text/plain": [
              "(array([ 5.,  9., 10.,  2.,  1.,  9., 16.,  2.,  1.,  2.]),\n",
              " array([1253000. , 1753123.8, 2253247.6, 2753371.4, 3253495.2, 3753619. ,\n",
              "        4253742.8, 4753866.6, 5253990.4, 5754114.2, 6254238. ]),\n",
              " <a list of 10 Patch objects>)"
            ]
          },
          "metadata": {
            "tags": []
          },
          "execution_count": 36
        },
        {
          "output_type": "display_data",
          "data": {
            "image/png": "[encoded data removed]",
            "text/plain": [
              "<Figure size 432x288 with 1 Axes>"
            ]
          },
          "metadata": {
            "tags": [],
            "needs_background": "light"
          }
        }
      ]
    },
    {
      "cell_type": "code",
      "metadata": {
        "colab": {
          "base_uri": "https://localhost:8080/",
          "height": 278
        },
        "id": "yaB1MM1FUuLs",
        "outputId": "ccc926a9-1496-4aed-a678-33c2496ed7a7"
      },
      "source": [
        "plt.hist(n_parks['GrandCanyon'],\r\n",
        "         facecolor='red',\r\n",
        "         edgecolor='black',\r\n",
        "         bins=10)\r\n",
        "plt.show()"
      ],
      "execution_count": 41,
      "outputs": [
        {
          "output_type": "display_data",
          "data": {
            "image/png": "[encoded data removed]",
            "text/plain": [
              "<Figure size 432x288 with 1 Axes>"
            ]
          },
          "metadata": {
            "tags": [],
            "needs_background": "light"
          }
        }
      ]
    },
    {
      "cell_type": "code",
      "metadata": {
        "colab": {
          "base_uri": "https://localhost:8080/",
          "height": 347
        },
        "id": "0aMx22ymU70S",
        "outputId": "c0d2ed57-d263-49c4-e10f-8e48817c8ad8"
      },
      "source": [
        "n, bins, patches = plt.hist(n_parks['GrandCanyon'],\r\n",
        "                            facecolor='peru',\r\n",
        "                            edgecolor='white',\r\n",
        "                            bins=10)\r\n",
        "\r\n",
        "print('n:',n)\r\n",
        "print('bins:',bins)\r\n",
        "print('patches',patches)"
      ],
      "execution_count": 43,
      "outputs": [
        {
          "output_type": "stream",
          "text": [
            "n: [ 5.  9. 10.  2.  1.  9. 16.  2.  1.  2.]\n",
            "bins: [1253000.  1753123.8 2253247.6 2753371.4 3253495.2 3753619.  4253742.8\n",
            " 4753866.6 5253990.4 5754114.2 6254238. ]\n",
            "patches <a list of 10 Patch objects>\n"
          ],
          "name": "stdout"
        },
        {
          "output_type": "display_data",
          "data": {
            "image/png": "[encoded data removed]",
            "text/plain": [
              "<Figure size 432x288 with 1 Axes>"
            ]
          },
          "metadata": {
            "tags": [],
            "needs_background": "light"
          }
        }
      ]
    },
    {
      "cell_type": "code",
      "metadata": {
        "colab": {
          "base_uri": "https://localhost:8080/",
          "height": 347
        },
        "id": "H0cPMGj5WC6Q",
        "outputId": "fd40d15e-01c8-4922-d672-f3d456ff005d"
      },
      "source": [
        "plt.hist(n_parks['GrandCanyon'],\r\n",
        "                            facecolor='red',\r\n",
        "                            edgecolor='white',\r\n",
        "                            bins=10,\r\n",
        "                  cumulative=True\r\n",
        "         )"
      ],
      "execution_count": 45,
      "outputs": [
        {
          "output_type": "execute_result",
          "data": {
            "text/plain": [
              "(array([ 5., 14., 24., 26., 27., 36., 52., 54., 55., 57.]),\n",
              " array([1253000. , 1753123.8, 2253247.6, 2753371.4, 3253495.2, 3753619. ,\n",
              "        4253742.8, 4753866.6, 5253990.4, 5754114.2, 6254238. ]),\n",
              " <a list of 10 Patch objects>)"
            ]
          },
          "metadata": {
            "tags": []
          },
          "execution_count": 45
        },
        {
          "output_type": "display_data",
          "data": {
            "image/png": "[encoded data removed]",
            "text/plain": [
              "<Figure size 432x288 with 1 Axes>"
            ]
          },
          "metadata": {
            "tags": [],
            "needs_background": "light"
          }
        }
      ]
    },
    {
      "cell_type": "code",
      "metadata": {
        "colab": {
          "base_uri": "https://localhost:8080/",
          "height": 347
        },
        "id": "enOKwNg3Wf3e",
        "outputId": "74bb0bcb-99f8-44d3-c109-7c91cab3dc60"
      },
      "source": [
        "plt.hist(n_parks['GrandCanyon'],\r\n",
        "         facecolor='black',\r\n",
        "         edgecolor='white',\r\n",
        "         bins=10,\r\n",
        "         range=(2000000,5000000))"
      ],
      "execution_count": 49,
      "outputs": [
        {
          "output_type": "execute_result",
          "data": {
            "text/plain": [
              "(array([ 6.,  3.,  6.,  1.,  0.,  2.,  4., 10., 10.,  2.]),\n",
              " array([2000000., 2300000., 2600000., 2900000., 3200000., 3500000.,\n",
              "        3800000., 4100000., 4400000., 4700000., 5000000.]),\n",
              " <a list of 10 Patch objects>)"
            ]
          },
          "metadata": {
            "tags": []
          },
          "execution_count": 49
        },
        {
          "output_type": "display_data",
          "data": {
            "image/png": "[encoded data removed]",
            "text/plain": [
              "<Figure size 432x288 with 1 Axes>"
            ]
          },
          "metadata": {
            "tags": [],
            "needs_background": "light"
          }
        }
      ]
    },
    {
      "cell_type": "code",
      "metadata": {
        "colab": {
          "base_uri": "https://localhost:8080/",
          "height": 278
        },
        "id": "dSXFSNo4XNZ4",
        "outputId": "7764c6eb-3a42-4731-bac7-4db4a7d3b690"
      },
      "source": [
        "plt.hist(n_parks['BryceCanyon'], \r\n",
        "         facecolor='orangered', \r\n",
        "         edgecolor='maroon', \r\n",
        "         bins=8)\r\n",
        "\r\n",
        "plt.hist(n_parks['GrandCanyon'], \r\n",
        "         facecolor='peru', \r\n",
        "         edgecolor='blue', \r\n",
        "         bins=10, \r\n",
        "         alpha = 0.3)\r\n",
        "\r\n",
        "plt.show()"
      ],
      "execution_count": 51,
      "outputs": [
        {
          "output_type": "display_data",
          "data": {
            "image/png": "[encoded data removed]",
            "text/plain": [
              "<Figure size 432x288 with 1 Axes>"
            ]
          },
          "metadata": {
            "tags": [],
            "needs_background": "light"
          }
        }
      ]
    },
    {
      "cell_type": "code",
      "metadata": {
        "colab": {
          "base_uri": "https://localhost:8080/",
          "height": 202
        },
        "id": "Z_UV78izXdOq",
        "outputId": "d857a6e6-d14e-4777-d316-24788930b930"
      },
      "source": [
        "n_parks.head()"
      ],
      "execution_count": 52,
      "outputs": [
        {
          "output_type": "execute_result",
          "data": {
            "text/html": [
              "<div>\n",
              "<style scoped>\n",
              "    .dataframe tbody tr th:only-of-type {\n",
              "        vertical-align: middle;\n",
              "    }\n",
              "\n",
              "    .dataframe tbody tr th {\n",
              "        vertical-align: top;\n",
              "    }\n",
              "\n",
              "    .dataframe thead th {\n",
              "        text-align: right;\n",
              "    }\n",
              "</style>\n",
              "<table border=\"1\" class=\"dataframe\">\n",
              "  <thead>\n",
              "    <tr style=\"text-align: right;\">\n",
              "      <th></th>\n",
              "      <th>Year</th>\n",
              "      <th>Badlands</th>\n",
              "      <th>GrandCanyon</th>\n",
              "      <th>BryceCanyon</th>\n",
              "    </tr>\n",
              "  </thead>\n",
              "  <tbody>\n",
              "    <tr>\n",
              "      <th>0</th>\n",
              "      <td>1961</td>\n",
              "      <td>833300</td>\n",
              "      <td>1253000</td>\n",
              "      <td>264800</td>\n",
              "    </tr>\n",
              "    <tr>\n",
              "      <th>1</th>\n",
              "      <td>1962</td>\n",
              "      <td>1044800</td>\n",
              "      <td>1447400</td>\n",
              "      <td>251000</td>\n",
              "    </tr>\n",
              "    <tr>\n",
              "      <th>2</th>\n",
              "      <td>1963</td>\n",
              "      <td>1074000</td>\n",
              "      <td>1539500</td>\n",
              "      <td>289500</td>\n",
              "    </tr>\n",
              "    <tr>\n",
              "      <th>3</th>\n",
              "      <td>1964</td>\n",
              "      <td>1079800</td>\n",
              "      <td>1576600</td>\n",
              "      <td>300300</td>\n",
              "    </tr>\n",
              "    <tr>\n",
              "      <th>4</th>\n",
              "      <td>1965</td>\n",
              "      <td>1091300</td>\n",
              "      <td>1689200</td>\n",
              "      <td>366800</td>\n",
              "    </tr>\n",
              "  </tbody>\n",
              "</table>\n",
              "</div>"
            ],
            "text/plain": [
              "   Year  Badlands  GrandCanyon  BryceCanyon\n",
              "0  1961    833300      1253000       264800\n",
              "1  1962   1044800      1447400       251000\n",
              "2  1963   1074000      1539500       289500\n",
              "3  1964   1079800      1576600       300300\n",
              "4  1965   1091300      1689200       366800"
            ]
          },
          "metadata": {
            "tags": []
          },
          "execution_count": 52
        }
      ]
    },
    {
      "cell_type": "code",
      "metadata": {
        "id": "uDtbAyqcXoEl"
      },
      "source": [
        "x = n_parks['Year']"
      ],
      "execution_count": 54,
      "outputs": []
    },
    {
      "cell_type": "code",
      "metadata": {
        "id": "4qn8_YWxXy1W"
      },
      "source": [
        "import numpy as np\r\n",
        "\r\n",
        "y = np.vstack([n_parks['Badlands'],\r\n",
        "                    n_parks['BryceCanyon'],\r\n",
        "                    n_parks['GrandCanyon']])"
      ],
      "execution_count": 56,
      "outputs": []
    },
    {
      "cell_type": "code",
      "metadata": {
        "colab": {
          "base_uri": "https://localhost:8080/",
          "height": 293
        },
        "id": "v7pXe2C6YRZ2",
        "outputId": "eecf3675-edeb-42d5-8fdd-5bafde6ec54f"
      },
      "source": [
        "labels = ['Badlands',\r\n",
        "          'BryceCanyon',\r\n",
        "          'GrandCanyon']\r\n",
        "\r\n",
        "colors = ['brown',\r\n",
        "          'blue',\r\n",
        "          'yellow']\r\n",
        "\r\n",
        "plt.stackplot(x,y,\r\n",
        "              labels=labels,\r\n",
        "              colors=colors,\r\n",
        "              edgecolor='black')\r\n",
        "\r\n",
        "plt.legend(loc=2)"
      ],
      "execution_count": 62,
      "outputs": [
        {
          "output_type": "execute_result",
          "data": {
            "text/plain": [
              "<matplotlib.legend.Legend at 0x7fbe31734860>"
            ]
          },
          "metadata": {
            "tags": []
          },
          "execution_count": 62
        },
        {
          "output_type": "display_data",
          "data": {
            "image/png": "[encoded data removed]",
            "text/plain": [
              "<Figure size 432x288 with 1 Axes>"
            ]
          },
          "metadata": {
            "tags": [],
            "needs_background": "light"
          }
        }
      ]
    },
    {
      "cell_type": "code",
      "metadata": {
        "id": "VzU3f1dEZm2z"
      },
      "source": [
        ""
      ],
      "execution_count": null,
      "outputs": []
    }
  ]
}
