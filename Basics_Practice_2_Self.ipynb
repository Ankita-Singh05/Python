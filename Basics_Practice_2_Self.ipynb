{
  "nbformat": 4,
  "nbformat_minor": 0,
  "metadata": {
    "colab": {
      "name": "Business Applications of AI_Ankita_First .ipynb",
      "provenance": [],
      "collapsed_sections": [],
      "authorship_tag": "ABX9TyM6vAM3m4Vf4gpFN8yXP/ap",
      "include_colab_link": true
    },
    "kernelspec": {
      "name": "python3",
      "display_name": "Python 3"
    }
  },
  "cells": [
    {
      "cell_type": "markdown",
      "metadata": {
        "id": "view-in-github",
        "colab_type": "text"
      },
      "source": [
        "<a href=\"https://colab.research.google.com/github/Ankita-Singh05/Python/blob/main/Basics_Practice_2_Self.ipynb\" target=\"_parent\"><img src=\"https://colab.research.google.com/assets/colab-badge.svg\" alt=\"Open In Colab\"/></a>"
      ]
    },
    {
      "cell_type": "code",
      "metadata": {
        "id": "-Mccg5uLzwJO"
      },
      "source": [
        "x= 10\r\n"
      ],
      "execution_count": null,
      "outputs": []
    },
    {
      "cell_type": "code",
      "metadata": {
        "colab": {
          "base_uri": "https://localhost:8080/"
        },
        "id": "l6_ZlWoj3WIq",
        "outputId": "607555bd-5028-40a9-c0fb-2f0dfff2117a"
      },
      "source": [
        "print(x)"
      ],
      "execution_count": null,
      "outputs": [
        {
          "output_type": "stream",
          "text": [
            "10\n"
          ],
          "name": "stdout"
        }
      ]
    },
    {
      "cell_type": "code",
      "metadata": {
        "id": "iqbC8CP83YYB"
      },
      "source": [
        "x=\"hello\""
      ],
      "execution_count": null,
      "outputs": []
    },
    {
      "cell_type": "code",
      "metadata": {
        "colab": {
          "base_uri": "https://localhost:8080/"
        },
        "id": "O9ukMxeH3aaz",
        "outputId": "18058a85-7651-4c9f-bc2a-8e2cbd224525"
      },
      "source": [
        "print(x)\r\n"
      ],
      "execution_count": null,
      "outputs": [
        {
          "output_type": "stream",
          "text": [
            "hello\n"
          ],
          "name": "stdout"
        }
      ]
    },
    {
      "cell_type": "code",
      "metadata": {
        "id": "mp9UZTQx3cVH"
      },
      "source": [
        "a=5"
      ],
      "execution_count": null,
      "outputs": []
    },
    {
      "cell_type": "code",
      "metadata": {
        "id": "P577OAH13gdf"
      },
      "source": [
        "b=10"
      ],
      "execution_count": null,
      "outputs": []
    },
    {
      "cell_type": "code",
      "metadata": {
        "colab": {
          "base_uri": "https://localhost:8080/"
        },
        "id": "VrFz-mCB3hX2",
        "outputId": "9fce7590-15db-4310-8aa2-3df995b56d8e"
      },
      "source": [
        "c=a+b\r\n",
        "print(c)"
      ],
      "execution_count": null,
      "outputs": [
        {
          "output_type": "stream",
          "text": [
            "15\n"
          ],
          "name": "stdout"
        }
      ]
    },
    {
      "cell_type": "code",
      "metadata": {
        "colab": {
          "base_uri": "https://localhost:8080/"
        },
        "id": "x4WX8jfx3j0p",
        "outputId": "287f9d5c-f712-4e42-a71c-e6a676c6d735"
      },
      "source": [
        "d=a-b\r\n",
        "print(d)"
      ],
      "execution_count": null,
      "outputs": [
        {
          "output_type": "stream",
          "text": [
            "-5\n"
          ],
          "name": "stdout"
        }
      ]
    },
    {
      "cell_type": "code",
      "metadata": {
        "colab": {
          "base_uri": "https://localhost:8080/"
        },
        "id": "RLMoHnxT3nu8",
        "outputId": "e7ef1408-29c6-4fc2-f686-7c9ce254c3d3"
      },
      "source": [
        "e=a*b\r\n",
        "print(e)"
      ],
      "execution_count": null,
      "outputs": [
        {
          "output_type": "stream",
          "text": [
            "50\n"
          ],
          "name": "stdout"
        }
      ]
    },
    {
      "cell_type": "code",
      "metadata": {
        "colab": {
          "base_uri": "https://localhost:8080/"
        },
        "id": "76Z5rqgV3sC9",
        "outputId": "9b2095f7-4d0b-4753-f561-07e1785b7a52"
      },
      "source": [
        "f=a/b\r\n",
        "print(f)"
      ],
      "execution_count": null,
      "outputs": [
        {
          "output_type": "stream",
          "text": [
            "0.5\n"
          ],
          "name": "stdout"
        }
      ]
    },
    {
      "cell_type": "code",
      "metadata": {
        "colab": {
          "base_uri": "https://localhost:8080/"
        },
        "id": "smcrfwU33uj-",
        "outputId": "d972d733-d7eb-4014-c7c3-6cbb351a6111"
      },
      "source": [
        "g=b **a\r\n",
        "print(g)"
      ],
      "execution_count": null,
      "outputs": [
        {
          "output_type": "stream",
          "text": [
            "100000\n"
          ],
          "name": "stdout"
        }
      ]
    },
    {
      "cell_type": "code",
      "metadata": {
        "colab": {
          "base_uri": "https://localhost:8080/"
        },
        "id": "9oRay97130GE",
        "outputId": "18ecd5c5-3c4d-4562-a69b-13648bf383f8"
      },
      "source": [
        "print(a,b,c,d,e,f,g)\r\n"
      ],
      "execution_count": null,
      "outputs": [
        {
          "output_type": "stream",
          "text": [
            "5 10 15 -5 50 0.5 100000\n"
          ],
          "name": "stdout"
        }
      ]
    },
    {
      "cell_type": "code",
      "metadata": {
        "colab": {
          "base_uri": "https://localhost:8080/"
        },
        "id": "0p69yccg35L2",
        "outputId": "05264d45-1bba-4749-e2b6-e24bf3becc88"
      },
      "source": [
        "x=4\r\n",
        "y=3\r\n",
        "if x<y:\r\n",
        "  print(\"Y is greater\")\r\n",
        "elif x>y:\r\n",
        "  print(\"x is greater\")\r\n",
        "else:\r\n",
        "  print(\"both are equal\")"
      ],
      "execution_count": null,
      "outputs": [
        {
          "output_type": "stream",
          "text": [
            "x is greater\n"
          ],
          "name": "stdout"
        }
      ]
    },
    {
      "cell_type": "code",
      "metadata": {
        "id": "Jg-oErQo4Wdw"
      },
      "source": [
        "import pandas as pd"
      ],
      "execution_count": null,
      "outputs": []
    },
    {
      "cell_type": "code",
      "metadata": {
        "id": "iJeNc57A5OTp"
      },
      "source": [
        "sfo_cust_sat_2014=pd.read_excel('sfo cust sat 2014 data file_WEIGHTED_flysfo.xlsx','Sheet 1')"
      ],
      "execution_count": null,
      "outputs": []
    },
    {
      "cell_type": "code",
      "metadata": {
        "colab": {
          "base_uri": "https://localhost:8080/",
          "height": 452
        },
        "id": "FXrCLtsW5vsf",
        "outputId": "b7fd8054-e34b-494b-90d0-06fd4b196d85"
      },
      "source": [
        "sfo_cust_sat_2014"
      ],
      "execution_count": null,
      "outputs": [
        {
          "output_type": "execute_result",
          "data": {
            "text/html": [
              "<div>\n",
              "<style scoped>\n",
              "    .dataframe tbody tr th:only-of-type {\n",
              "        vertical-align: middle;\n",
              "    }\n",
              "\n",
              "    .dataframe tbody tr th {\n",
              "        vertical-align: top;\n",
              "    }\n",
              "\n",
              "    .dataframe thead th {\n",
              "        text-align: right;\n",
              "    }\n",
              "</style>\n",
              "<table border=\"1\" class=\"dataframe\">\n",
              "  <thead>\n",
              "    <tr style=\"text-align: right;\">\n",
              "      <th></th>\n",
              "      <th>RESPNUM</th>\n",
              "      <th>CCGID</th>\n",
              "      <th>RUN</th>\n",
              "      <th>INTDATE</th>\n",
              "      <th>GATE</th>\n",
              "      <th>AREA</th>\n",
              "      <th>STRATA</th>\n",
              "      <th>PEAK</th>\n",
              "      <th>METHOD</th>\n",
              "      <th>SAQ</th>\n",
              "      <th>AIRLINE</th>\n",
              "      <th>FLIGHT</th>\n",
              "      <th>DEST</th>\n",
              "      <th>DESTGEO</th>\n",
              "      <th>DESTMARK</th>\n",
              "      <th>DEPTIME</th>\n",
              "      <th>ARRTIME</th>\n",
              "      <th>Q2PURP1</th>\n",
              "      <th>Q2PURP2</th>\n",
              "      <th>Q2PURP3</th>\n",
              "      <th>Q2PURP4</th>\n",
              "      <th>Q2PURP5</th>\n",
              "      <th>Q2PURP6</th>\n",
              "      <th>Q3GETTO1</th>\n",
              "      <th>Q3GETTO2</th>\n",
              "      <th>Q3GETTO3</th>\n",
              "      <th>Q3GETTO4</th>\n",
              "      <th>Q3GETTO5</th>\n",
              "      <th>Q3GETTO6</th>\n",
              "      <th>Q3PARK</th>\n",
              "      <th>Q4BAGS</th>\n",
              "      <th>Q4STORE</th>\n",
              "      <th>Q4FOOD</th>\n",
              "      <th>Q4WIFI</th>\n",
              "      <th>Q5TIMESFLOWN</th>\n",
              "      <th>Q6LONGUSE</th>\n",
              "      <th>Q7ART</th>\n",
              "      <th>Q7FOOD</th>\n",
              "      <th>Q7STORE</th>\n",
              "      <th>Q7SIGN</th>\n",
              "      <th>...</th>\n",
              "      <th>Q9BOARDING</th>\n",
              "      <th>Q9AIRTRAIN</th>\n",
              "      <th>Q9RENTAL</th>\n",
              "      <th>Q9FOOD</th>\n",
              "      <th>Q9RESTROOM</th>\n",
              "      <th>Q9ALL</th>\n",
              "      <th>Q9COM1</th>\n",
              "      <th>Q9COM2</th>\n",
              "      <th>Q9COM3</th>\n",
              "      <th>Q10SAFE</th>\n",
              "      <th>Q10SAFEA</th>\n",
              "      <th>Q10SAFEB</th>\n",
              "      <th>Q10SAFEC</th>\n",
              "      <th>Q11TSAPRE</th>\n",
              "      <th>Q12PRECHECKRATE</th>\n",
              "      <th>Q12PRECOM1</th>\n",
              "      <th>Q12PRECOM2</th>\n",
              "      <th>Q12PRECOM3</th>\n",
              "      <th>Q13COUNTY</th>\n",
              "      <th>Q13GETRATE</th>\n",
              "      <th>Q14FIND</th>\n",
              "      <th>Q14PASSTHRU</th>\n",
              "      <th>Q15PROBLEM</th>\n",
              "      <th>Q15PROBCOM1</th>\n",
              "      <th>Q15PROBCOM2</th>\n",
              "      <th>Q15PROBCOM3</th>\n",
              "      <th>Q16LIVE</th>\n",
              "      <th>Q17ST</th>\n",
              "      <th>Q17ZIP</th>\n",
              "      <th>Q17COUNTRY</th>\n",
              "      <th>HOME</th>\n",
              "      <th>Q18AGE</th>\n",
              "      <th>Q19GENDER</th>\n",
              "      <th>Q20INCOME</th>\n",
              "      <th>Q21FLY</th>\n",
              "      <th>Q22SJC</th>\n",
              "      <th>Q22OAK</th>\n",
              "      <th>LANG</th>\n",
              "      <th>WEIGHT</th>\n",
              "      <th>Location 1</th>\n",
              "    </tr>\n",
              "  </thead>\n",
              "  <tbody>\n",
              "    <tr>\n",
              "      <th>0</th>\n",
              "      <td>1</td>\n",
              "      <td>348.0</td>\n",
              "      <td>18045.0</td>\n",
              "      <td>4</td>\n",
              "      <td>54</td>\n",
              "      <td>D</td>\n",
              "      <td>3</td>\n",
              "      <td>2</td>\n",
              "      <td>1</td>\n",
              "      <td>1</td>\n",
              "      <td>36</td>\n",
              "      <td>182</td>\n",
              "      <td>62</td>\n",
              "      <td>2</td>\n",
              "      <td>3</td>\n",
              "      <td>21:20:00</td>\n",
              "      <td>18:30:00</td>\n",
              "      <td>6</td>\n",
              "      <td>NaN</td>\n",
              "      <td>NaN</td>\n",
              "      <td>NaN</td>\n",
              "      <td>NaN</td>\n",
              "      <td>NaN</td>\n",
              "      <td>5</td>\n",
              "      <td>NaN</td>\n",
              "      <td>NaN</td>\n",
              "      <td>NaN</td>\n",
              "      <td>NaN</td>\n",
              "      <td>NaN</td>\n",
              "      <td>NaN</td>\n",
              "      <td>2</td>\n",
              "      <td>2</td>\n",
              "      <td>1</td>\n",
              "      <td>2</td>\n",
              "      <td>5</td>\n",
              "      <td>2</td>\n",
              "      <td>5</td>\n",
              "      <td>5</td>\n",
              "      <td>5</td>\n",
              "      <td>4</td>\n",
              "      <td>...</td>\n",
              "      <td>5</td>\n",
              "      <td>5</td>\n",
              "      <td>5</td>\n",
              "      <td>5</td>\n",
              "      <td>5</td>\n",
              "      <td>5</td>\n",
              "      <td>NaN</td>\n",
              "      <td>NaN</td>\n",
              "      <td>NaN</td>\n",
              "      <td>5</td>\n",
              "      <td>NaN</td>\n",
              "      <td>NaN</td>\n",
              "      <td>NaN</td>\n",
              "      <td>1</td>\n",
              "      <td>5.0</td>\n",
              "      <td>0.0</td>\n",
              "      <td>NaN</td>\n",
              "      <td>NaN</td>\n",
              "      <td>5</td>\n",
              "      <td>5</td>\n",
              "      <td>4</td>\n",
              "      <td>5</td>\n",
              "      <td>2</td>\n",
              "      <td>NaN</td>\n",
              "      <td>NaN</td>\n",
              "      <td>NaN</td>\n",
              "      <td>1</td>\n",
              "      <td>CA</td>\n",
              "      <td>94114.0</td>\n",
              "      <td>US</td>\n",
              "      <td>1.0</td>\n",
              "      <td>3</td>\n",
              "      <td>2</td>\n",
              "      <td>2</td>\n",
              "      <td>2</td>\n",
              "      <td>2</td>\n",
              "      <td>1</td>\n",
              "      <td>1</td>\n",
              "      <td>0.869434</td>\n",
              "      <td>NaN</td>\n",
              "    </tr>\n",
              "    <tr>\n",
              "      <th>1</th>\n",
              "      <td>2</td>\n",
              "      <td>349.0</td>\n",
              "      <td>18045.0</td>\n",
              "      <td>4</td>\n",
              "      <td>54</td>\n",
              "      <td>D</td>\n",
              "      <td>3</td>\n",
              "      <td>2</td>\n",
              "      <td>1</td>\n",
              "      <td>1</td>\n",
              "      <td>36</td>\n",
              "      <td>182</td>\n",
              "      <td>62</td>\n",
              "      <td>2</td>\n",
              "      <td>3</td>\n",
              "      <td>21:20:00</td>\n",
              "      <td>19:00:00</td>\n",
              "      <td>4</td>\n",
              "      <td>NaN</td>\n",
              "      <td>NaN</td>\n",
              "      <td>NaN</td>\n",
              "      <td>NaN</td>\n",
              "      <td>NaN</td>\n",
              "      <td>2</td>\n",
              "      <td>NaN</td>\n",
              "      <td>NaN</td>\n",
              "      <td>NaN</td>\n",
              "      <td>NaN</td>\n",
              "      <td>NaN</td>\n",
              "      <td>NaN</td>\n",
              "      <td>1</td>\n",
              "      <td>2</td>\n",
              "      <td>2</td>\n",
              "      <td>2</td>\n",
              "      <td>3</td>\n",
              "      <td>2</td>\n",
              "      <td>6</td>\n",
              "      <td>6</td>\n",
              "      <td>2</td>\n",
              "      <td>4</td>\n",
              "      <td>...</td>\n",
              "      <td>4</td>\n",
              "      <td>5</td>\n",
              "      <td>6</td>\n",
              "      <td>6</td>\n",
              "      <td>4</td>\n",
              "      <td>4</td>\n",
              "      <td>NaN</td>\n",
              "      <td>NaN</td>\n",
              "      <td>NaN</td>\n",
              "      <td>5</td>\n",
              "      <td>12.0</td>\n",
              "      <td>NaN</td>\n",
              "      <td>NaN</td>\n",
              "      <td>2</td>\n",
              "      <td>NaN</td>\n",
              "      <td>NaN</td>\n",
              "      <td>NaN</td>\n",
              "      <td>NaN</td>\n",
              "      <td>1</td>\n",
              "      <td>4</td>\n",
              "      <td>4</td>\n",
              "      <td>4</td>\n",
              "      <td>2</td>\n",
              "      <td>NaN</td>\n",
              "      <td>NaN</td>\n",
              "      <td>NaN</td>\n",
              "      <td>1</td>\n",
              "      <td>CA</td>\n",
              "      <td>94619.0</td>\n",
              "      <td>US</td>\n",
              "      <td>3.0</td>\n",
              "      <td>2</td>\n",
              "      <td>1</td>\n",
              "      <td>1</td>\n",
              "      <td>2</td>\n",
              "      <td>2</td>\n",
              "      <td>2</td>\n",
              "      <td>1</td>\n",
              "      <td>0.869434</td>\n",
              "      <td>NaN</td>\n",
              "    </tr>\n",
              "    <tr>\n",
              "      <th>2</th>\n",
              "      <td>3</td>\n",
              "      <td>350.0</td>\n",
              "      <td>18045.0</td>\n",
              "      <td>4</td>\n",
              "      <td>54</td>\n",
              "      <td>D</td>\n",
              "      <td>3</td>\n",
              "      <td>2</td>\n",
              "      <td>1</td>\n",
              "      <td>1</td>\n",
              "      <td>36</td>\n",
              "      <td>182</td>\n",
              "      <td>62</td>\n",
              "      <td>2</td>\n",
              "      <td>3</td>\n",
              "      <td>21:20:00</td>\n",
              "      <td>20:00:00</td>\n",
              "      <td>3</td>\n",
              "      <td>NaN</td>\n",
              "      <td>NaN</td>\n",
              "      <td>NaN</td>\n",
              "      <td>NaN</td>\n",
              "      <td>NaN</td>\n",
              "      <td>2</td>\n",
              "      <td>NaN</td>\n",
              "      <td>NaN</td>\n",
              "      <td>NaN</td>\n",
              "      <td>NaN</td>\n",
              "      <td>NaN</td>\n",
              "      <td>NaN</td>\n",
              "      <td>2</td>\n",
              "      <td>2</td>\n",
              "      <td>2</td>\n",
              "      <td>1</td>\n",
              "      <td>6</td>\n",
              "      <td>2</td>\n",
              "      <td>6</td>\n",
              "      <td>3</td>\n",
              "      <td>3</td>\n",
              "      <td>5</td>\n",
              "      <td>...</td>\n",
              "      <td>5</td>\n",
              "      <td>6</td>\n",
              "      <td>6</td>\n",
              "      <td>4</td>\n",
              "      <td>4</td>\n",
              "      <td>4</td>\n",
              "      <td>NaN</td>\n",
              "      <td>NaN</td>\n",
              "      <td>NaN</td>\n",
              "      <td>5</td>\n",
              "      <td>12.0</td>\n",
              "      <td>NaN</td>\n",
              "      <td>NaN</td>\n",
              "      <td>1</td>\n",
              "      <td>5.0</td>\n",
              "      <td>1.0</td>\n",
              "      <td>2.0</td>\n",
              "      <td>NaN</td>\n",
              "      <td>5</td>\n",
              "      <td>5</td>\n",
              "      <td>5</td>\n",
              "      <td>5</td>\n",
              "      <td>2</td>\n",
              "      <td>NaN</td>\n",
              "      <td>NaN</td>\n",
              "      <td>NaN</td>\n",
              "      <td>1</td>\n",
              "      <td>CA</td>\n",
              "      <td>94121.0</td>\n",
              "      <td>US</td>\n",
              "      <td>1.0</td>\n",
              "      <td>5</td>\n",
              "      <td>1</td>\n",
              "      <td>4</td>\n",
              "      <td>1</td>\n",
              "      <td>2</td>\n",
              "      <td>1</td>\n",
              "      <td>1</td>\n",
              "      <td>0.869434</td>\n",
              "      <td>NaN</td>\n",
              "    </tr>\n",
              "    <tr>\n",
              "      <th>3</th>\n",
              "      <td>4</td>\n",
              "      <td>351.0</td>\n",
              "      <td>18045.0</td>\n",
              "      <td>4</td>\n",
              "      <td>54</td>\n",
              "      <td>D</td>\n",
              "      <td>3</td>\n",
              "      <td>2</td>\n",
              "      <td>1</td>\n",
              "      <td>2</td>\n",
              "      <td>36</td>\n",
              "      <td>182</td>\n",
              "      <td>62</td>\n",
              "      <td>2</td>\n",
              "      <td>3</td>\n",
              "      <td>21:20:00</td>\n",
              "      <td>20:10:00</td>\n",
              "      <td>2</td>\n",
              "      <td>NaN</td>\n",
              "      <td>NaN</td>\n",
              "      <td>NaN</td>\n",
              "      <td>NaN</td>\n",
              "      <td>NaN</td>\n",
              "      <td>2</td>\n",
              "      <td>NaN</td>\n",
              "      <td>NaN</td>\n",
              "      <td>NaN</td>\n",
              "      <td>NaN</td>\n",
              "      <td>NaN</td>\n",
              "      <td>NaN</td>\n",
              "      <td>1</td>\n",
              "      <td>1</td>\n",
              "      <td>0</td>\n",
              "      <td>1</td>\n",
              "      <td>3</td>\n",
              "      <td>3</td>\n",
              "      <td>6</td>\n",
              "      <td>5</td>\n",
              "      <td>5</td>\n",
              "      <td>5</td>\n",
              "      <td>...</td>\n",
              "      <td>5</td>\n",
              "      <td>6</td>\n",
              "      <td>6</td>\n",
              "      <td>5</td>\n",
              "      <td>4</td>\n",
              "      <td>4</td>\n",
              "      <td>NaN</td>\n",
              "      <td>NaN</td>\n",
              "      <td>NaN</td>\n",
              "      <td>5</td>\n",
              "      <td>NaN</td>\n",
              "      <td>NaN</td>\n",
              "      <td>NaN</td>\n",
              "      <td>2</td>\n",
              "      <td>NaN</td>\n",
              "      <td>NaN</td>\n",
              "      <td>NaN</td>\n",
              "      <td>NaN</td>\n",
              "      <td>6</td>\n",
              "      <td>5</td>\n",
              "      <td>5</td>\n",
              "      <td>5</td>\n",
              "      <td>2</td>\n",
              "      <td>NaN</td>\n",
              "      <td>NaN</td>\n",
              "      <td>NaN</td>\n",
              "      <td>1</td>\n",
              "      <td>CA</td>\n",
              "      <td>94404.0</td>\n",
              "      <td>US</td>\n",
              "      <td>2.0</td>\n",
              "      <td>3</td>\n",
              "      <td>2</td>\n",
              "      <td>4</td>\n",
              "      <td>2</td>\n",
              "      <td>1</td>\n",
              "      <td>2</td>\n",
              "      <td>1</td>\n",
              "      <td>0.869434</td>\n",
              "      <td>NaN</td>\n",
              "    </tr>\n",
              "    <tr>\n",
              "      <th>4</th>\n",
              "      <td>5</td>\n",
              "      <td>352.0</td>\n",
              "      <td>18045.0</td>\n",
              "      <td>4</td>\n",
              "      <td>54</td>\n",
              "      <td>D</td>\n",
              "      <td>3</td>\n",
              "      <td>2</td>\n",
              "      <td>1</td>\n",
              "      <td>2</td>\n",
              "      <td>36</td>\n",
              "      <td>182</td>\n",
              "      <td>62</td>\n",
              "      <td>2</td>\n",
              "      <td>3</td>\n",
              "      <td>21:20:00</td>\n",
              "      <td>20:20:00</td>\n",
              "      <td>3</td>\n",
              "      <td>NaN</td>\n",
              "      <td>NaN</td>\n",
              "      <td>NaN</td>\n",
              "      <td>NaN</td>\n",
              "      <td>NaN</td>\n",
              "      <td>2</td>\n",
              "      <td>NaN</td>\n",
              "      <td>NaN</td>\n",
              "      <td>NaN</td>\n",
              "      <td>NaN</td>\n",
              "      <td>NaN</td>\n",
              "      <td>NaN</td>\n",
              "      <td>2</td>\n",
              "      <td>2</td>\n",
              "      <td>2</td>\n",
              "      <td>2</td>\n",
              "      <td>5</td>\n",
              "      <td>2</td>\n",
              "      <td>5</td>\n",
              "      <td>5</td>\n",
              "      <td>5</td>\n",
              "      <td>5</td>\n",
              "      <td>...</td>\n",
              "      <td>5</td>\n",
              "      <td>5</td>\n",
              "      <td>5</td>\n",
              "      <td>5</td>\n",
              "      <td>5</td>\n",
              "      <td>5</td>\n",
              "      <td>NaN</td>\n",
              "      <td>NaN</td>\n",
              "      <td>NaN</td>\n",
              "      <td>5</td>\n",
              "      <td>1.0</td>\n",
              "      <td>NaN</td>\n",
              "      <td>NaN</td>\n",
              "      <td>1</td>\n",
              "      <td>0.0</td>\n",
              "      <td>0.0</td>\n",
              "      <td>NaN</td>\n",
              "      <td>NaN</td>\n",
              "      <td>5</td>\n",
              "      <td>5</td>\n",
              "      <td>5</td>\n",
              "      <td>5</td>\n",
              "      <td>2</td>\n",
              "      <td>NaN</td>\n",
              "      <td>NaN</td>\n",
              "      <td>NaN</td>\n",
              "      <td>1</td>\n",
              "      <td>CA</td>\n",
              "      <td>94115.0</td>\n",
              "      <td>US</td>\n",
              "      <td>1.0</td>\n",
              "      <td>3</td>\n",
              "      <td>1</td>\n",
              "      <td>1</td>\n",
              "      <td>2</td>\n",
              "      <td>2</td>\n",
              "      <td>2</td>\n",
              "      <td>1</td>\n",
              "      <td>0.869434</td>\n",
              "      <td>NaN</td>\n",
              "    </tr>\n",
              "    <tr>\n",
              "      <th>...</th>\n",
              "      <td>...</td>\n",
              "      <td>...</td>\n",
              "      <td>...</td>\n",
              "      <td>...</td>\n",
              "      <td>...</td>\n",
              "      <td>...</td>\n",
              "      <td>...</td>\n",
              "      <td>...</td>\n",
              "      <td>...</td>\n",
              "      <td>...</td>\n",
              "      <td>...</td>\n",
              "      <td>...</td>\n",
              "      <td>...</td>\n",
              "      <td>...</td>\n",
              "      <td>...</td>\n",
              "      <td>...</td>\n",
              "      <td>...</td>\n",
              "      <td>...</td>\n",
              "      <td>...</td>\n",
              "      <td>...</td>\n",
              "      <td>...</td>\n",
              "      <td>...</td>\n",
              "      <td>...</td>\n",
              "      <td>...</td>\n",
              "      <td>...</td>\n",
              "      <td>...</td>\n",
              "      <td>...</td>\n",
              "      <td>...</td>\n",
              "      <td>...</td>\n",
              "      <td>...</td>\n",
              "      <td>...</td>\n",
              "      <td>...</td>\n",
              "      <td>...</td>\n",
              "      <td>...</td>\n",
              "      <td>...</td>\n",
              "      <td>...</td>\n",
              "      <td>...</td>\n",
              "      <td>...</td>\n",
              "      <td>...</td>\n",
              "      <td>...</td>\n",
              "      <td>...</td>\n",
              "      <td>...</td>\n",
              "      <td>...</td>\n",
              "      <td>...</td>\n",
              "      <td>...</td>\n",
              "      <td>...</td>\n",
              "      <td>...</td>\n",
              "      <td>...</td>\n",
              "      <td>...</td>\n",
              "      <td>...</td>\n",
              "      <td>...</td>\n",
              "      <td>...</td>\n",
              "      <td>...</td>\n",
              "      <td>...</td>\n",
              "      <td>...</td>\n",
              "      <td>...</td>\n",
              "      <td>...</td>\n",
              "      <td>...</td>\n",
              "      <td>...</td>\n",
              "      <td>...</td>\n",
              "      <td>...</td>\n",
              "      <td>...</td>\n",
              "      <td>...</td>\n",
              "      <td>...</td>\n",
              "      <td>...</td>\n",
              "      <td>...</td>\n",
              "      <td>...</td>\n",
              "      <td>...</td>\n",
              "      <td>...</td>\n",
              "      <td>...</td>\n",
              "      <td>...</td>\n",
              "      <td>...</td>\n",
              "      <td>...</td>\n",
              "      <td>...</td>\n",
              "      <td>...</td>\n",
              "      <td>...</td>\n",
              "      <td>...</td>\n",
              "      <td>...</td>\n",
              "      <td>...</td>\n",
              "      <td>...</td>\n",
              "      <td>...</td>\n",
              "    </tr>\n",
              "    <tr>\n",
              "      <th>2813</th>\n",
              "      <td>3003</td>\n",
              "      <td>2816.0</td>\n",
              "      <td>18071.0</td>\n",
              "      <td>12</td>\n",
              "      <td>54</td>\n",
              "      <td>D</td>\n",
              "      <td>2</td>\n",
              "      <td>2</td>\n",
              "      <td>2</td>\n",
              "      <td>2</td>\n",
              "      <td>36</td>\n",
              "      <td>222</td>\n",
              "      <td>6</td>\n",
              "      <td>3</td>\n",
              "      <td>2</td>\n",
              "      <td>15:40:00</td>\n",
              "      <td>14:45:00</td>\n",
              "      <td>1</td>\n",
              "      <td>NaN</td>\n",
              "      <td>NaN</td>\n",
              "      <td>NaN</td>\n",
              "      <td>NaN</td>\n",
              "      <td>NaN</td>\n",
              "      <td>12</td>\n",
              "      <td>NaN</td>\n",
              "      <td>NaN</td>\n",
              "      <td>NaN</td>\n",
              "      <td>NaN</td>\n",
              "      <td>NaN</td>\n",
              "      <td>NaN</td>\n",
              "      <td>2</td>\n",
              "      <td>1</td>\n",
              "      <td>1</td>\n",
              "      <td>2</td>\n",
              "      <td>4</td>\n",
              "      <td>4</td>\n",
              "      <td>5</td>\n",
              "      <td>5</td>\n",
              "      <td>5</td>\n",
              "      <td>4</td>\n",
              "      <td>...</td>\n",
              "      <td>5</td>\n",
              "      <td>5</td>\n",
              "      <td>4</td>\n",
              "      <td>5</td>\n",
              "      <td>4</td>\n",
              "      <td>4</td>\n",
              "      <td>NaN</td>\n",
              "      <td>NaN</td>\n",
              "      <td>NaN</td>\n",
              "      <td>4</td>\n",
              "      <td>NaN</td>\n",
              "      <td>NaN</td>\n",
              "      <td>NaN</td>\n",
              "      <td>1</td>\n",
              "      <td>5.0</td>\n",
              "      <td>1.0</td>\n",
              "      <td>NaN</td>\n",
              "      <td>NaN</td>\n",
              "      <td>5</td>\n",
              "      <td>4</td>\n",
              "      <td>4</td>\n",
              "      <td>4</td>\n",
              "      <td>2</td>\n",
              "      <td>NaN</td>\n",
              "      <td>NaN</td>\n",
              "      <td>NaN</td>\n",
              "      <td>3</td>\n",
              "      <td>TX</td>\n",
              "      <td>78756.0</td>\n",
              "      <td>US</td>\n",
              "      <td>11.0</td>\n",
              "      <td>5</td>\n",
              "      <td>1</td>\n",
              "      <td>4</td>\n",
              "      <td>2</td>\n",
              "      <td>1</td>\n",
              "      <td>1</td>\n",
              "      <td>1</td>\n",
              "      <td>0.869434</td>\n",
              "      <td>NaN</td>\n",
              "    </tr>\n",
              "    <tr>\n",
              "      <th>2814</th>\n",
              "      <td>3004</td>\n",
              "      <td>2817.0</td>\n",
              "      <td>18107.0</td>\n",
              "      <td>16</td>\n",
              "      <td>88</td>\n",
              "      <td>F</td>\n",
              "      <td>2</td>\n",
              "      <td>2</td>\n",
              "      <td>2</td>\n",
              "      <td>2</td>\n",
              "      <td>33</td>\n",
              "      <td>1749</td>\n",
              "      <td>11</td>\n",
              "      <td>2</td>\n",
              "      <td>3</td>\n",
              "      <td>17:00:00</td>\n",
              "      <td>15:30:00</td>\n",
              "      <td>1</td>\n",
              "      <td>NaN</td>\n",
              "      <td>NaN</td>\n",
              "      <td>NaN</td>\n",
              "      <td>NaN</td>\n",
              "      <td>NaN</td>\n",
              "      <td>5</td>\n",
              "      <td>NaN</td>\n",
              "      <td>NaN</td>\n",
              "      <td>NaN</td>\n",
              "      <td>NaN</td>\n",
              "      <td>NaN</td>\n",
              "      <td>NaN</td>\n",
              "      <td>0</td>\n",
              "      <td>1</td>\n",
              "      <td>0</td>\n",
              "      <td>1</td>\n",
              "      <td>1</td>\n",
              "      <td>4</td>\n",
              "      <td>4</td>\n",
              "      <td>4</td>\n",
              "      <td>4</td>\n",
              "      <td>3</td>\n",
              "      <td>...</td>\n",
              "      <td>3</td>\n",
              "      <td>4</td>\n",
              "      <td>0</td>\n",
              "      <td>0</td>\n",
              "      <td>3</td>\n",
              "      <td>4</td>\n",
              "      <td>NaN</td>\n",
              "      <td>NaN</td>\n",
              "      <td>NaN</td>\n",
              "      <td>4</td>\n",
              "      <td>NaN</td>\n",
              "      <td>NaN</td>\n",
              "      <td>NaN</td>\n",
              "      <td>2</td>\n",
              "      <td>NaN</td>\n",
              "      <td>NaN</td>\n",
              "      <td>NaN</td>\n",
              "      <td>NaN</td>\n",
              "      <td>5</td>\n",
              "      <td>0</td>\n",
              "      <td>3</td>\n",
              "      <td>3</td>\n",
              "      <td>2</td>\n",
              "      <td>NaN</td>\n",
              "      <td>NaN</td>\n",
              "      <td>NaN</td>\n",
              "      <td>3</td>\n",
              "      <td>MA</td>\n",
              "      <td>1864.0</td>\n",
              "      <td>US</td>\n",
              "      <td>12.0</td>\n",
              "      <td>6</td>\n",
              "      <td>1</td>\n",
              "      <td>3</td>\n",
              "      <td>2</td>\n",
              "      <td>2</td>\n",
              "      <td>2</td>\n",
              "      <td>1</td>\n",
              "      <td>2.543220</td>\n",
              "      <td>NaN</td>\n",
              "    </tr>\n",
              "    <tr>\n",
              "      <th>2815</th>\n",
              "      <td>3005</td>\n",
              "      <td>2818.0</td>\n",
              "      <td>18127.0</td>\n",
              "      <td>12</td>\n",
              "      <td>86</td>\n",
              "      <td>F</td>\n",
              "      <td>3</td>\n",
              "      <td>2</td>\n",
              "      <td>2</td>\n",
              "      <td>2</td>\n",
              "      <td>33</td>\n",
              "      <td>380</td>\n",
              "      <td>25</td>\n",
              "      <td>1</td>\n",
              "      <td>4</td>\n",
              "      <td>19:00:00</td>\n",
              "      <td>17:30:00</td>\n",
              "      <td>3</td>\n",
              "      <td>NaN</td>\n",
              "      <td>NaN</td>\n",
              "      <td>NaN</td>\n",
              "      <td>NaN</td>\n",
              "      <td>NaN</td>\n",
              "      <td>5</td>\n",
              "      <td>NaN</td>\n",
              "      <td>NaN</td>\n",
              "      <td>NaN</td>\n",
              "      <td>NaN</td>\n",
              "      <td>NaN</td>\n",
              "      <td>NaN</td>\n",
              "      <td>0</td>\n",
              "      <td>0</td>\n",
              "      <td>1</td>\n",
              "      <td>0</td>\n",
              "      <td>4</td>\n",
              "      <td>4</td>\n",
              "      <td>4</td>\n",
              "      <td>3</td>\n",
              "      <td>2</td>\n",
              "      <td>3</td>\n",
              "      <td>...</td>\n",
              "      <td>4</td>\n",
              "      <td>4</td>\n",
              "      <td>0</td>\n",
              "      <td>4</td>\n",
              "      <td>1</td>\n",
              "      <td>3</td>\n",
              "      <td>30.0</td>\n",
              "      <td>NaN</td>\n",
              "      <td>NaN</td>\n",
              "      <td>5</td>\n",
              "      <td>6.0</td>\n",
              "      <td>NaN</td>\n",
              "      <td>NaN</td>\n",
              "      <td>2</td>\n",
              "      <td>NaN</td>\n",
              "      <td>NaN</td>\n",
              "      <td>NaN</td>\n",
              "      <td>NaN</td>\n",
              "      <td>5</td>\n",
              "      <td>4</td>\n",
              "      <td>5</td>\n",
              "      <td>5</td>\n",
              "      <td>2</td>\n",
              "      <td>NaN</td>\n",
              "      <td>NaN</td>\n",
              "      <td>NaN</td>\n",
              "      <td>1</td>\n",
              "      <td>CA</td>\n",
              "      <td>94109.0</td>\n",
              "      <td>US</td>\n",
              "      <td>1.0</td>\n",
              "      <td>3</td>\n",
              "      <td>2</td>\n",
              "      <td>3</td>\n",
              "      <td>3</td>\n",
              "      <td>2</td>\n",
              "      <td>2</td>\n",
              "      <td>1</td>\n",
              "      <td>2.543220</td>\n",
              "      <td>NaN</td>\n",
              "    </tr>\n",
              "    <tr>\n",
              "      <th>2816</th>\n",
              "      <td>3006</td>\n",
              "      <td>2819.0</td>\n",
              "      <td>18159.0</td>\n",
              "      <td>23</td>\n",
              "      <td>51</td>\n",
              "      <td>D</td>\n",
              "      <td>1</td>\n",
              "      <td>1</td>\n",
              "      <td>2</td>\n",
              "      <td>2</td>\n",
              "      <td>36</td>\n",
              "      <td>174</td>\n",
              "      <td>62</td>\n",
              "      <td>2</td>\n",
              "      <td>3</td>\n",
              "      <td>08:00:00</td>\n",
              "      <td>06:40:00</td>\n",
              "      <td>2</td>\n",
              "      <td>NaN</td>\n",
              "      <td>NaN</td>\n",
              "      <td>NaN</td>\n",
              "      <td>NaN</td>\n",
              "      <td>NaN</td>\n",
              "      <td>1</td>\n",
              "      <td>NaN</td>\n",
              "      <td>NaN</td>\n",
              "      <td>NaN</td>\n",
              "      <td>NaN</td>\n",
              "      <td>NaN</td>\n",
              "      <td>1.0</td>\n",
              "      <td>1</td>\n",
              "      <td>2</td>\n",
              "      <td>2</td>\n",
              "      <td>1</td>\n",
              "      <td>1</td>\n",
              "      <td>4</td>\n",
              "      <td>4</td>\n",
              "      <td>4</td>\n",
              "      <td>4</td>\n",
              "      <td>3</td>\n",
              "      <td>...</td>\n",
              "      <td>5</td>\n",
              "      <td>5</td>\n",
              "      <td>0</td>\n",
              "      <td>4</td>\n",
              "      <td>5</td>\n",
              "      <td>5</td>\n",
              "      <td>NaN</td>\n",
              "      <td>NaN</td>\n",
              "      <td>NaN</td>\n",
              "      <td>5</td>\n",
              "      <td>0.0</td>\n",
              "      <td>NaN</td>\n",
              "      <td>NaN</td>\n",
              "      <td>1</td>\n",
              "      <td>5.0</td>\n",
              "      <td>2.0</td>\n",
              "      <td>NaN</td>\n",
              "      <td>NaN</td>\n",
              "      <td>6</td>\n",
              "      <td>5</td>\n",
              "      <td>4</td>\n",
              "      <td>5</td>\n",
              "      <td>2</td>\n",
              "      <td>NaN</td>\n",
              "      <td>NaN</td>\n",
              "      <td>NaN</td>\n",
              "      <td>1</td>\n",
              "      <td>CA</td>\n",
              "      <td>94070.0</td>\n",
              "      <td>US</td>\n",
              "      <td>2.0</td>\n",
              "      <td>6</td>\n",
              "      <td>2</td>\n",
              "      <td>4</td>\n",
              "      <td>2</td>\n",
              "      <td>1</td>\n",
              "      <td>1</td>\n",
              "      <td>1</td>\n",
              "      <td>0.869434</td>\n",
              "      <td>NaN</td>\n",
              "    </tr>\n",
              "    <tr>\n",
              "      <th>2817</th>\n",
              "      <td>3007</td>\n",
              "      <td>2820.0</td>\n",
              "      <td>18082.0</td>\n",
              "      <td>14</td>\n",
              "      <td>98</td>\n",
              "      <td>G</td>\n",
              "      <td>1</td>\n",
              "      <td>3</td>\n",
              "      <td>2</td>\n",
              "      <td>3</td>\n",
              "      <td>34</td>\n",
              "      <td>893</td>\n",
              "      <td>89</td>\n",
              "      <td>8</td>\n",
              "      <td>2</td>\n",
              "      <td>10:55:00</td>\n",
              "      <td>N</td>\n",
              "      <td>3</td>\n",
              "      <td>NaN</td>\n",
              "      <td>NaN</td>\n",
              "      <td>NaN</td>\n",
              "      <td>NaN</td>\n",
              "      <td>NaN</td>\n",
              "      <td>3</td>\n",
              "      <td>NaN</td>\n",
              "      <td>NaN</td>\n",
              "      <td>NaN</td>\n",
              "      <td>NaN</td>\n",
              "      <td>NaN</td>\n",
              "      <td>NaN</td>\n",
              "      <td>2</td>\n",
              "      <td>1</td>\n",
              "      <td>2</td>\n",
              "      <td>1</td>\n",
              "      <td>1</td>\n",
              "      <td>1</td>\n",
              "      <td>5</td>\n",
              "      <td>6</td>\n",
              "      <td>5</td>\n",
              "      <td>5</td>\n",
              "      <td>...</td>\n",
              "      <td>5</td>\n",
              "      <td>5</td>\n",
              "      <td>6</td>\n",
              "      <td>6</td>\n",
              "      <td>5</td>\n",
              "      <td>5</td>\n",
              "      <td>NaN</td>\n",
              "      <td>NaN</td>\n",
              "      <td>NaN</td>\n",
              "      <td>5</td>\n",
              "      <td>21.0</td>\n",
              "      <td>NaN</td>\n",
              "      <td>NaN</td>\n",
              "      <td>2</td>\n",
              "      <td>NaN</td>\n",
              "      <td>NaN</td>\n",
              "      <td>NaN</td>\n",
              "      <td>NaN</td>\n",
              "      <td>11</td>\n",
              "      <td>5</td>\n",
              "      <td>5</td>\n",
              "      <td>4</td>\n",
              "      <td>2</td>\n",
              "      <td>NaN</td>\n",
              "      <td>NaN</td>\n",
              "      <td>NaN</td>\n",
              "      <td>3</td>\n",
              "      <td>CA</td>\n",
              "      <td>92127.0</td>\n",
              "      <td>US</td>\n",
              "      <td>10.0</td>\n",
              "      <td>5</td>\n",
              "      <td>1</td>\n",
              "      <td>3</td>\n",
              "      <td>2</td>\n",
              "      <td>2</td>\n",
              "      <td>2</td>\n",
              "      <td>1</td>\n",
              "      <td>0.702621</td>\n",
              "      <td>NaN</td>\n",
              "    </tr>\n",
              "  </tbody>\n",
              "</table>\n",
              "<p>2818 rows × 94 columns</p>\n",
              "</div>"
            ],
            "text/plain": [
              "      RESPNUM   CCGID      RUN  INTDATE  ...  Q22OAK LANG    WEIGHT  Location 1\n",
              "0           1   348.0  18045.0        4  ...       1    1  0.869434         NaN\n",
              "1           2   349.0  18045.0        4  ...       2    1  0.869434         NaN\n",
              "2           3   350.0  18045.0        4  ...       1    1  0.869434         NaN\n",
              "3           4   351.0  18045.0        4  ...       2    1  0.869434         NaN\n",
              "4           5   352.0  18045.0        4  ...       2    1  0.869434         NaN\n",
              "...       ...     ...      ...      ...  ...     ...  ...       ...         ...\n",
              "2813     3003  2816.0  18071.0       12  ...       1    1  0.869434         NaN\n",
              "2814     3004  2817.0  18107.0       16  ...       2    1  2.543220         NaN\n",
              "2815     3005  2818.0  18127.0       12  ...       2    1  2.543220         NaN\n",
              "2816     3006  2819.0  18159.0       23  ...       1    1  0.869434         NaN\n",
              "2817     3007  2820.0  18082.0       14  ...       2    1  0.702621         NaN\n",
              "\n",
              "[2818 rows x 94 columns]"
            ]
          },
          "metadata": {
            "tags": []
          },
          "execution_count": 16
        }
      ]
    },
    {
      "cell_type": "code",
      "metadata": {
        "colab": {
          "base_uri": "https://localhost:8080/"
        },
        "id": "3qPPsIdj7NuA",
        "outputId": "8a005c3d-2465-41d3-e214-45017a943b9c"
      },
      "source": [
        "sfo_cust_sat_2014.columns"
      ],
      "execution_count": null,
      "outputs": [
        {
          "output_type": "execute_result",
          "data": {
            "text/plain": [
              "Index(['RESPNUM', 'CCGID', 'RUN', 'INTDATE', 'GATE', 'AREA', 'STRATA', 'PEAK',\n",
              "       'METHOD', 'SAQ', 'AIRLINE', 'FLIGHT', 'DEST', 'DESTGEO', 'DESTMARK',\n",
              "       'DEPTIME', 'ARRTIME', 'Q2PURP1', 'Q2PURP2', 'Q2PURP3', 'Q2PURP4',\n",
              "       'Q2PURP5', 'Q2PURP6', 'Q3GETTO1', 'Q3GETTO2', 'Q3GETTO3', 'Q3GETTO4',\n",
              "       'Q3GETTO5', 'Q3GETTO6', 'Q3PARK', 'Q4BAGS', 'Q4STORE', 'Q4FOOD',\n",
              "       'Q4WIFI', 'Q5TIMESFLOWN', 'Q6LONGUSE', 'Q7ART', 'Q7FOOD', 'Q7STORE',\n",
              "       'Q7SIGN', 'Q7WALKWAYS', 'Q7SCREENS', 'Q7INFODOWN', 'Q7INFOUP', 'Q7WIFI',\n",
              "       'Q7ROADS', 'Q7PARK', 'Q7AIRTRAIN', 'Q7LTPARKING', 'Q7RENTAL', 'Q7ALL',\n",
              "       'Q8IMPROVE1', 'Q8IMPROVE2', 'Q8IMPROVE3', 'Q9BOARDING', 'Q9AIRTRAIN',\n",
              "       'Q9RENTAL', 'Q9FOOD', 'Q9RESTROOM', 'Q9ALL', 'Q9COM1', 'Q9COM2',\n",
              "       'Q9COM3', 'Q10SAFE', 'Q10SAFEA', 'Q10SAFEB', 'Q10SAFEC', 'Q11TSAPRE',\n",
              "       'Q12PRECHECKRATE', 'Q12PRECOM1', 'Q12PRECOM2', 'Q12PRECOM3',\n",
              "       'Q13COUNTY', 'Q13GETRATE', 'Q14FIND', 'Q14PASSTHRU', 'Q15PROBLEM',\n",
              "       'Q15PROBCOM1', 'Q15PROBCOM2', 'Q15PROBCOM3', 'Q16LIVE', 'Q17ST',\n",
              "       'Q17ZIP', 'Q17COUNTRY', 'HOME', 'Q18AGE', 'Q19GENDER', 'Q20INCOME',\n",
              "       'Q21FLY', 'Q22SJC', 'Q22OAK', 'LANG', 'WEIGHT', 'Location 1'],\n",
              "      dtype='object')"
            ]
          },
          "metadata": {
            "tags": []
          },
          "execution_count": 17
        }
      ]
    },
    {
      "cell_type": "code",
      "metadata": {
        "id": "l7itH0do7uUf"
      },
      "source": [
        "sfo_subset=sfo_cust_sat_2014[['RESPNUM', 'CCGID', 'RUN', 'INTDATE', 'GATE', 'AREA', 'STRATA', 'PEAK',\r\n",
        "       'METHOD', 'SAQ', 'AIRLINE', 'FLIGHT', 'DEST', 'DESTGEO', 'DESTMARK',\r\n",
        "       'DEPTIME']]"
      ],
      "execution_count": null,
      "outputs": []
    },
    {
      "cell_type": "code",
      "metadata": {
        "colab": {
          "base_uri": "https://localhost:8080/",
          "height": 435
        },
        "id": "yYT3cmPS78pi",
        "outputId": "62c23f1f-ee7b-4e1e-a631-b4e105ff2565"
      },
      "source": [
        "sfo_subset"
      ],
      "execution_count": null,
      "outputs": [
        {
          "output_type": "execute_result",
          "data": {
            "text/html": [
              "<div>\n",
              "<style scoped>\n",
              "    .dataframe tbody tr th:only-of-type {\n",
              "        vertical-align: middle;\n",
              "    }\n",
              "\n",
              "    .dataframe tbody tr th {\n",
              "        vertical-align: top;\n",
              "    }\n",
              "\n",
              "    .dataframe thead th {\n",
              "        text-align: right;\n",
              "    }\n",
              "</style>\n",
              "<table border=\"1\" class=\"dataframe\">\n",
              "  <thead>\n",
              "    <tr style=\"text-align: right;\">\n",
              "      <th></th>\n",
              "      <th>RESPNUM</th>\n",
              "      <th>CCGID</th>\n",
              "      <th>RUN</th>\n",
              "      <th>INTDATE</th>\n",
              "      <th>GATE</th>\n",
              "      <th>AREA</th>\n",
              "      <th>STRATA</th>\n",
              "      <th>PEAK</th>\n",
              "      <th>METHOD</th>\n",
              "      <th>SAQ</th>\n",
              "      <th>AIRLINE</th>\n",
              "      <th>FLIGHT</th>\n",
              "      <th>DEST</th>\n",
              "      <th>DESTGEO</th>\n",
              "      <th>DESTMARK</th>\n",
              "      <th>DEPTIME</th>\n",
              "    </tr>\n",
              "  </thead>\n",
              "  <tbody>\n",
              "    <tr>\n",
              "      <th>0</th>\n",
              "      <td>1</td>\n",
              "      <td>348.0</td>\n",
              "      <td>18045.0</td>\n",
              "      <td>4</td>\n",
              "      <td>54</td>\n",
              "      <td>D</td>\n",
              "      <td>3</td>\n",
              "      <td>2</td>\n",
              "      <td>1</td>\n",
              "      <td>1</td>\n",
              "      <td>36</td>\n",
              "      <td>182</td>\n",
              "      <td>62</td>\n",
              "      <td>2</td>\n",
              "      <td>3</td>\n",
              "      <td>21:20:00</td>\n",
              "    </tr>\n",
              "    <tr>\n",
              "      <th>1</th>\n",
              "      <td>2</td>\n",
              "      <td>349.0</td>\n",
              "      <td>18045.0</td>\n",
              "      <td>4</td>\n",
              "      <td>54</td>\n",
              "      <td>D</td>\n",
              "      <td>3</td>\n",
              "      <td>2</td>\n",
              "      <td>1</td>\n",
              "      <td>1</td>\n",
              "      <td>36</td>\n",
              "      <td>182</td>\n",
              "      <td>62</td>\n",
              "      <td>2</td>\n",
              "      <td>3</td>\n",
              "      <td>21:20:00</td>\n",
              "    </tr>\n",
              "    <tr>\n",
              "      <th>2</th>\n",
              "      <td>3</td>\n",
              "      <td>350.0</td>\n",
              "      <td>18045.0</td>\n",
              "      <td>4</td>\n",
              "      <td>54</td>\n",
              "      <td>D</td>\n",
              "      <td>3</td>\n",
              "      <td>2</td>\n",
              "      <td>1</td>\n",
              "      <td>1</td>\n",
              "      <td>36</td>\n",
              "      <td>182</td>\n",
              "      <td>62</td>\n",
              "      <td>2</td>\n",
              "      <td>3</td>\n",
              "      <td>21:20:00</td>\n",
              "    </tr>\n",
              "    <tr>\n",
              "      <th>3</th>\n",
              "      <td>4</td>\n",
              "      <td>351.0</td>\n",
              "      <td>18045.0</td>\n",
              "      <td>4</td>\n",
              "      <td>54</td>\n",
              "      <td>D</td>\n",
              "      <td>3</td>\n",
              "      <td>2</td>\n",
              "      <td>1</td>\n",
              "      <td>2</td>\n",
              "      <td>36</td>\n",
              "      <td>182</td>\n",
              "      <td>62</td>\n",
              "      <td>2</td>\n",
              "      <td>3</td>\n",
              "      <td>21:20:00</td>\n",
              "    </tr>\n",
              "    <tr>\n",
              "      <th>4</th>\n",
              "      <td>5</td>\n",
              "      <td>352.0</td>\n",
              "      <td>18045.0</td>\n",
              "      <td>4</td>\n",
              "      <td>54</td>\n",
              "      <td>D</td>\n",
              "      <td>3</td>\n",
              "      <td>2</td>\n",
              "      <td>1</td>\n",
              "      <td>2</td>\n",
              "      <td>36</td>\n",
              "      <td>182</td>\n",
              "      <td>62</td>\n",
              "      <td>2</td>\n",
              "      <td>3</td>\n",
              "      <td>21:20:00</td>\n",
              "    </tr>\n",
              "    <tr>\n",
              "      <th>...</th>\n",
              "      <td>...</td>\n",
              "      <td>...</td>\n",
              "      <td>...</td>\n",
              "      <td>...</td>\n",
              "      <td>...</td>\n",
              "      <td>...</td>\n",
              "      <td>...</td>\n",
              "      <td>...</td>\n",
              "      <td>...</td>\n",
              "      <td>...</td>\n",
              "      <td>...</td>\n",
              "      <td>...</td>\n",
              "      <td>...</td>\n",
              "      <td>...</td>\n",
              "      <td>...</td>\n",
              "      <td>...</td>\n",
              "    </tr>\n",
              "    <tr>\n",
              "      <th>2813</th>\n",
              "      <td>3003</td>\n",
              "      <td>2816.0</td>\n",
              "      <td>18071.0</td>\n",
              "      <td>12</td>\n",
              "      <td>54</td>\n",
              "      <td>D</td>\n",
              "      <td>2</td>\n",
              "      <td>2</td>\n",
              "      <td>2</td>\n",
              "      <td>2</td>\n",
              "      <td>36</td>\n",
              "      <td>222</td>\n",
              "      <td>6</td>\n",
              "      <td>3</td>\n",
              "      <td>2</td>\n",
              "      <td>15:40:00</td>\n",
              "    </tr>\n",
              "    <tr>\n",
              "      <th>2814</th>\n",
              "      <td>3004</td>\n",
              "      <td>2817.0</td>\n",
              "      <td>18107.0</td>\n",
              "      <td>16</td>\n",
              "      <td>88</td>\n",
              "      <td>F</td>\n",
              "      <td>2</td>\n",
              "      <td>2</td>\n",
              "      <td>2</td>\n",
              "      <td>2</td>\n",
              "      <td>33</td>\n",
              "      <td>1749</td>\n",
              "      <td>11</td>\n",
              "      <td>2</td>\n",
              "      <td>3</td>\n",
              "      <td>17:00:00</td>\n",
              "    </tr>\n",
              "    <tr>\n",
              "      <th>2815</th>\n",
              "      <td>3005</td>\n",
              "      <td>2818.0</td>\n",
              "      <td>18127.0</td>\n",
              "      <td>12</td>\n",
              "      <td>86</td>\n",
              "      <td>F</td>\n",
              "      <td>3</td>\n",
              "      <td>2</td>\n",
              "      <td>2</td>\n",
              "      <td>2</td>\n",
              "      <td>33</td>\n",
              "      <td>380</td>\n",
              "      <td>25</td>\n",
              "      <td>1</td>\n",
              "      <td>4</td>\n",
              "      <td>19:00:00</td>\n",
              "    </tr>\n",
              "    <tr>\n",
              "      <th>2816</th>\n",
              "      <td>3006</td>\n",
              "      <td>2819.0</td>\n",
              "      <td>18159.0</td>\n",
              "      <td>23</td>\n",
              "      <td>51</td>\n",
              "      <td>D</td>\n",
              "      <td>1</td>\n",
              "      <td>1</td>\n",
              "      <td>2</td>\n",
              "      <td>2</td>\n",
              "      <td>36</td>\n",
              "      <td>174</td>\n",
              "      <td>62</td>\n",
              "      <td>2</td>\n",
              "      <td>3</td>\n",
              "      <td>08:00:00</td>\n",
              "    </tr>\n",
              "    <tr>\n",
              "      <th>2817</th>\n",
              "      <td>3007</td>\n",
              "      <td>2820.0</td>\n",
              "      <td>18082.0</td>\n",
              "      <td>14</td>\n",
              "      <td>98</td>\n",
              "      <td>G</td>\n",
              "      <td>1</td>\n",
              "      <td>3</td>\n",
              "      <td>2</td>\n",
              "      <td>3</td>\n",
              "      <td>34</td>\n",
              "      <td>893</td>\n",
              "      <td>89</td>\n",
              "      <td>8</td>\n",
              "      <td>2</td>\n",
              "      <td>10:55:00</td>\n",
              "    </tr>\n",
              "  </tbody>\n",
              "</table>\n",
              "<p>2818 rows × 16 columns</p>\n",
              "</div>"
            ],
            "text/plain": [
              "      RESPNUM   CCGID      RUN  INTDATE  ...  DEST DESTGEO  DESTMARK   DEPTIME\n",
              "0           1   348.0  18045.0        4  ...    62       2         3  21:20:00\n",
              "1           2   349.0  18045.0        4  ...    62       2         3  21:20:00\n",
              "2           3   350.0  18045.0        4  ...    62       2         3  21:20:00\n",
              "3           4   351.0  18045.0        4  ...    62       2         3  21:20:00\n",
              "4           5   352.0  18045.0        4  ...    62       2         3  21:20:00\n",
              "...       ...     ...      ...      ...  ...   ...     ...       ...       ...\n",
              "2813     3003  2816.0  18071.0       12  ...     6       3         2  15:40:00\n",
              "2814     3004  2817.0  18107.0       16  ...    11       2         3  17:00:00\n",
              "2815     3005  2818.0  18127.0       12  ...    25       1         4  19:00:00\n",
              "2816     3006  2819.0  18159.0       23  ...    62       2         3  08:00:00\n",
              "2817     3007  2820.0  18082.0       14  ...    89       8         2  10:55:00\n",
              "\n",
              "[2818 rows x 16 columns]"
            ]
          },
          "metadata": {
            "tags": []
          },
          "execution_count": 19
        }
      ]
    },
    {
      "cell_type": "code",
      "metadata": {
        "colab": {
          "base_uri": "https://localhost:8080/"
        },
        "id": "w7IrhsOF7-i-",
        "outputId": "566360a2-728b-47a3-b14d-257b3d0cec10"
      },
      "source": [
        "sfo_subset.dtypes"
      ],
      "execution_count": null,
      "outputs": [
        {
          "output_type": "execute_result",
          "data": {
            "text/plain": [
              "RESPNUM       int64\n",
              "CCGID       float64\n",
              "RUN         float64\n",
              "INTDATE       int64\n",
              "GATE          int64\n",
              "AREA         object\n",
              "STRATA        int64\n",
              "PEAK          int64\n",
              "METHOD        int64\n",
              "SAQ           int64\n",
              "AIRLINE       int64\n",
              "FLIGHT        int64\n",
              "DEST          int64\n",
              "DESTGEO       int64\n",
              "DESTMARK      int64\n",
              "DEPTIME      object\n",
              "dtype: object"
            ]
          },
          "metadata": {
            "tags": []
          },
          "execution_count": 20
        }
      ]
    },
    {
      "cell_type": "code",
      "metadata": {
        "colab": {
          "base_uri": "https://localhost:8080/"
        },
        "id": "Y2FlhmAR8Fmb",
        "outputId": "3fc67e95-7a3a-4b1b-b7a2-50e213acf5cb"
      },
      "source": [
        "sfo_cust_sat_2014.shape"
      ],
      "execution_count": null,
      "outputs": [
        {
          "output_type": "execute_result",
          "data": {
            "text/plain": [
              "(2818, 94)"
            ]
          },
          "metadata": {
            "tags": []
          },
          "execution_count": 21
        }
      ]
    },
    {
      "cell_type": "code",
      "metadata": {
        "colab": {
          "base_uri": "https://localhost:8080/"
        },
        "id": "leUcBCSB8I9O",
        "outputId": "d7e89d80-e127-4cd8-903c-a4c08a4a1797"
      },
      "source": [
        "sfo_cust_sat_2014.Q19GENDER.value_counts()"
      ],
      "execution_count": null,
      "outputs": [
        {
          "output_type": "execute_result",
          "data": {
            "text/plain": [
              "1    1369\n",
              "2    1316\n",
              "0     112\n",
              "3      21\n",
              "Name: Q19GENDER, dtype: int64"
            ]
          },
          "metadata": {
            "tags": []
          },
          "execution_count": 22
        }
      ]
    },
    {
      "cell_type": "code",
      "metadata": {
        "id": "ItPen6qZ8Up_"
      },
      "source": [
        "sfo_cust_sat_2014[['Q19GENDER']]= sfo_cust_sat_2014[['Q19GENDER']].replace([1],'Male')\r\n",
        "sfo_cust_sat_2014[['Q19GENDER']]= sfo_cust_sat_2014[['Q19GENDER']].replace([2],'Female')\r\n",
        "sfo_cust_sat_2014[['Q19GENDER']]= sfo_cust_sat_2014[['Q19GENDER']].replace([3],'Other')\r\n",
        "sfo_cust_sat_2014[['Q19GENDER']]= sfo_cust_sat_2014[['Q19GENDER']].replace([0],'Not Known')"
      ],
      "execution_count": null,
      "outputs": []
    },
    {
      "cell_type": "code",
      "metadata": {
        "colab": {
          "base_uri": "https://localhost:8080/"
        },
        "id": "AiwgttBH87y6",
        "outputId": "0583d005-ebdb-4ead-adf7-6323cd0167b4"
      },
      "source": [
        "sfo_cust_sat_2014.Q19GENDER.value_counts()"
      ],
      "execution_count": null,
      "outputs": [
        {
          "output_type": "execute_result",
          "data": {
            "text/plain": [
              "Male         1369\n",
              "Female       1316\n",
              "Not Known     112\n",
              "Other          21\n",
              "Name: Q19GENDER, dtype: int64"
            ]
          },
          "metadata": {
            "tags": []
          },
          "execution_count": 24
        }
      ]
    },
    {
      "cell_type": "code",
      "metadata": {
        "id": "BUV4JyRP9B1j"
      },
      "source": [
        "sfo_cust_sat_2014.to_excel(\"updated_sfo.xlsx\",sheet_name=\"Ankita\",index=False)"
      ],
      "execution_count": null,
      "outputs": []
    },
    {
      "cell_type": "code",
      "metadata": {
        "id": "JxDc06P19Tcc",
        "colab": {
          "base_uri": "https://localhost:8080/"
        },
        "outputId": "962e0c58-b450-40f3-fd8b-19114f5bf5e3"
      },
      "source": [
        "!ls /content/drive/My\\Drive\\Colab\\Notebooks"
      ],
      "execution_count": null,
      "outputs": [
        {
          "output_type": "stream",
          "text": [
            "ls: cannot access '/content/drive/MyDriveColabNotebooks': No such file or directory\n"
          ],
          "name": "stdout"
        }
      ]
    },
    {
      "cell_type": "code",
      "metadata": {
        "colab": {
          "base_uri": "https://localhost:8080/",
          "height": 130
        },
        "id": "h26g1S122vEK",
        "outputId": "8c5a9445-3502-4bff-a38b-b9eeec95414a"
      },
      "source": [
        "from google.colab import drive\r\n",
        "\r\n",
        "drive.mount(‘/content/gdrive’)\r\n"
      ],
      "execution_count": null,
      "outputs": [
        {
          "output_type": "error",
          "ename": "SyntaxError",
          "evalue": "ignored",
          "traceback": [
            "\u001b[0;36m  File \u001b[0;32m\"<ipython-input-27-0420942bfe4d>\"\u001b[0;36m, line \u001b[0;32m3\u001b[0m\n\u001b[0;31m    drive.mount(‘/content/gdrive’)\u001b[0m\n\u001b[0m                ^\u001b[0m\n\u001b[0;31mSyntaxError\u001b[0m\u001b[0;31m:\u001b[0m invalid character in identifier\n"
          ]
        }
      ]
    },
    {
      "cell_type": "code",
      "metadata": {
        "colab": {
          "base_uri": "https://localhost:8080/"
        },
        "id": "C4MB9WFd3iPP",
        "outputId": "27c77e52-1362-446b-a77b-9b04486fee1a"
      },
      "source": [
        "from google.colab import drive\r\n",
        "\r\n",
        "drive.mount('/content/gdrive')"
      ],
      "execution_count": null,
      "outputs": [
        {
          "output_type": "stream",
          "text": [
            "Mounted at /content/gdrive\n"
          ],
          "name": "stdout"
        }
      ]
    },
    {
      "cell_type": "code",
      "metadata": {
        "colab": {
          "base_uri": "https://localhost:8080/"
        },
        "id": "nGAcMmNs3kxC",
        "outputId": "e3cfb839-5d49-4dfb-9f29-31340050c34d"
      },
      "source": [
        "!ls /content/drive/My\\ Drive/Colab\\ Notebooks"
      ],
      "execution_count": null,
      "outputs": [
        {
          "output_type": "stream",
          "text": [
            "ls: cannot access '/content/drive/My Drive/Colab Notebooks': No such file or directory\n"
          ],
          "name": "stdout"
        }
      ]
    },
    {
      "cell_type": "code",
      "metadata": {
        "colab": {
          "base_uri": "https://localhost:8080/",
          "height": 182
        },
        "id": "19LC82Xc4KsN",
        "outputId": "3468dedc-3b09-42a2-b7d9-f67dacf75473"
      },
      "source": [
        "import os\r\n",
        "os.chdir('/content/drive/My Drive/Colab Notebooks')"
      ],
      "execution_count": null,
      "outputs": [
        {
          "output_type": "error",
          "ename": "FileNotFoundError",
          "evalue": "ignored",
          "traceback": [
            "\u001b[0;31m---------------------------------------------------------------------------\u001b[0m",
            "\u001b[0;31mFileNotFoundError\u001b[0m                         Traceback (most recent call last)",
            "\u001b[0;32m<ipython-input-31-37e59c8785fb>\u001b[0m in \u001b[0;36m<module>\u001b[0;34m()\u001b[0m\n\u001b[1;32m      1\u001b[0m \u001b[0;32mimport\u001b[0m \u001b[0mos\u001b[0m\u001b[0;34m\u001b[0m\u001b[0;34m\u001b[0m\u001b[0m\n\u001b[0;32m----> 2\u001b[0;31m \u001b[0mos\u001b[0m\u001b[0;34m.\u001b[0m\u001b[0mchdir\u001b[0m\u001b[0;34m(\u001b[0m\u001b[0;34m'/content/drive/My Drive/Colab Notebooks'\u001b[0m\u001b[0;34m)\u001b[0m\u001b[0;34m\u001b[0m\u001b[0;34m\u001b[0m\u001b[0m\n\u001b[0m",
            "\u001b[0;31mFileNotFoundError\u001b[0m: [Errno 2] No such file or directory: '/content/drive/My Drive/Colab Notebooks'"
          ]
        }
      ]
    },
    {
      "cell_type": "code",
      "metadata": {
        "colab": {
          "base_uri": "https://localhost:8080/"
        },
        "id": "jLgPiO7w4YFj",
        "outputId": "b3db9f1b-43fd-4ee3-9693-417ff5e5201b"
      },
      "source": [
        "import os   \r\n",
        "os.chdir('/content/gdrive/MyDrive/Colab Notebooks')\r\n",
        "print(os.getcwd())"
      ],
      "execution_count": null,
      "outputs": [
        {
          "output_type": "stream",
          "text": [
            "/content/gdrive/MyDrive/Colab Notebooks\n"
          ],
          "name": "stdout"
        }
      ]
    },
    {
      "cell_type": "code",
      "metadata": {
        "colab": {
          "base_uri": "https://localhost:8080/"
        },
        "id": "sGgxNnUt4zb7",
        "outputId": "c77642eb-88d6-4757-e1d7-b9010a9fa395"
      },
      "source": [
        "!ls /content/gdrive/MyDrive/Colab Notebooks"
      ],
      "execution_count": null,
      "outputs": [
        {
          "output_type": "stream",
          "text": [
            "ls: cannot access '/content/gdrive/MyDrive/Colab': No such file or directory\n",
            "ls: cannot access 'Notebooks': No such file or directory\n"
          ],
          "name": "stdout"
        }
      ]
    },
    {
      "cell_type": "code",
      "metadata": {
        "colab": {
          "base_uri": "https://localhost:8080/"
        },
        "id": "SaKVGID15Nfx",
        "outputId": "e626380c-ac83-4f90-ed6a-12873f412db3"
      },
      "source": [
        "ls /content/gdrive/MyDrive/Colab Notebooks"
      ],
      "execution_count": null,
      "outputs": [
        {
          "output_type": "stream",
          "text": [
            "ls: cannot access '/content/gdrive/MyDrive/Colab': No such file or directory\n",
            "ls: cannot access 'Notebooks': No such file or directory\n"
          ],
          "name": "stdout"
        }
      ]
    },
    {
      "cell_type": "code",
      "metadata": {
        "colab": {
          "base_uri": "https://localhost:8080/"
        },
        "id": "GBBSf-7I5chp",
        "outputId": "e621830a-d32e-462a-b87a-6e33e9727c12"
      },
      "source": [
        "!ls '/content/gdrive/MyDrive/Colab Notebooks'"
      ],
      "execution_count": null,
      "outputs": [
        {
          "output_type": "stream",
          "text": [
            "'Business Applications of AI_Ankita_First .ipynb'\n",
            " literary_birth_rate.csv\n",
            " sales.csv\n",
            "'sfo cust sat 2014 data file_WEIGHTED_flysfo.xlsx'\n",
            "'sfo cust sat 2015_data file_final_WEIGHTED_flysfo.csv'\n",
            " user_device.csv\n",
            " user_usage.csv\n"
          ],
          "name": "stdout"
        }
      ]
    },
    {
      "cell_type": "code",
      "metadata": {
        "colab": {
          "base_uri": "https://localhost:8080/",
          "height": 263
        },
        "id": "8l7qttbe5fgK",
        "outputId": "7696d32f-59a9-42f8-ae70-7aef0b71a797"
      },
      "source": [
        "import pandas as pd\r\n",
        "df= pd.read_csv('sales.csv', index_col='month')\r\n",
        "df"
      ],
      "execution_count": null,
      "outputs": [
        {
          "output_type": "execute_result",
          "data": {
            "text/html": [
              "<div>\n",
              "<style scoped>\n",
              "    .dataframe tbody tr th:only-of-type {\n",
              "        vertical-align: middle;\n",
              "    }\n",
              "\n",
              "    .dataframe tbody tr th {\n",
              "        vertical-align: top;\n",
              "    }\n",
              "\n",
              "    .dataframe thead th {\n",
              "        text-align: right;\n",
              "    }\n",
              "</style>\n",
              "<table border=\"1\" class=\"dataframe\">\n",
              "  <thead>\n",
              "    <tr style=\"text-align: right;\">\n",
              "      <th></th>\n",
              "      <th>eggs</th>\n",
              "      <th>salt</th>\n",
              "      <th>spam</th>\n",
              "    </tr>\n",
              "    <tr>\n",
              "      <th>month</th>\n",
              "      <th></th>\n",
              "      <th></th>\n",
              "      <th></th>\n",
              "    </tr>\n",
              "  </thead>\n",
              "  <tbody>\n",
              "    <tr>\n",
              "      <th>Jan</th>\n",
              "      <td>47</td>\n",
              "      <td>12.0</td>\n",
              "      <td>17</td>\n",
              "    </tr>\n",
              "    <tr>\n",
              "      <th>Feb</th>\n",
              "      <td>110</td>\n",
              "      <td>50.0</td>\n",
              "      <td>31</td>\n",
              "    </tr>\n",
              "    <tr>\n",
              "      <th>Mar</th>\n",
              "      <td>221</td>\n",
              "      <td>89.0</td>\n",
              "      <td>72</td>\n",
              "    </tr>\n",
              "    <tr>\n",
              "      <th>Apr</th>\n",
              "      <td>77</td>\n",
              "      <td>87.0</td>\n",
              "      <td>20</td>\n",
              "    </tr>\n",
              "    <tr>\n",
              "      <th>May</th>\n",
              "      <td>132</td>\n",
              "      <td>NaN</td>\n",
              "      <td>52</td>\n",
              "    </tr>\n",
              "    <tr>\n",
              "      <th>Jun</th>\n",
              "      <td>205</td>\n",
              "      <td>60.0</td>\n",
              "      <td>55</td>\n",
              "    </tr>\n",
              "  </tbody>\n",
              "</table>\n",
              "</div>"
            ],
            "text/plain": [
              "       eggs  salt  spam\n",
              "month                  \n",
              "Jan      47  12.0    17\n",
              "Feb     110  50.0    31\n",
              "Mar     221  89.0    72\n",
              "Apr      77  87.0    20\n",
              "May     132   NaN    52\n",
              "Jun     205  60.0    55"
            ]
          },
          "metadata": {
            "tags": []
          },
          "execution_count": 36
        }
      ]
    },
    {
      "cell_type": "code",
      "metadata": {
        "colab": {
          "base_uri": "https://localhost:8080/"
        },
        "id": "wF3wHw0a5yZ3",
        "outputId": "4a58f684-a2f3-4bf3-893c-6c5502205b5c"
      },
      "source": [
        "df['salt']['Jan']"
      ],
      "execution_count": null,
      "outputs": [
        {
          "output_type": "execute_result",
          "data": {
            "text/plain": [
              "12.0"
            ]
          },
          "metadata": {
            "tags": []
          },
          "execution_count": 37
        }
      ]
    },
    {
      "cell_type": "code",
      "metadata": {
        "colab": {
          "base_uri": "https://localhost:8080/"
        },
        "id": "CHCLcbe_58N4",
        "outputId": "9c5a575e-0aff-429a-d82d-14279c31baec"
      },
      "source": [
        "df['spam']['Mar']"
      ],
      "execution_count": null,
      "outputs": [
        {
          "output_type": "execute_result",
          "data": {
            "text/plain": [
              "72"
            ]
          },
          "metadata": {
            "tags": []
          },
          "execution_count": 40
        }
      ]
    },
    {
      "cell_type": "code",
      "metadata": {
        "colab": {
          "base_uri": "https://localhost:8080/"
        },
        "id": "v9AFbie65_Ow",
        "outputId": "e62762a4-5e19-4e19-a22b-b9929718f7fe"
      },
      "source": [
        "df.loc['May','spam']"
      ],
      "execution_count": null,
      "outputs": [
        {
          "output_type": "execute_result",
          "data": {
            "text/plain": [
              "52"
            ]
          },
          "metadata": {
            "tags": []
          },
          "execution_count": 41
        }
      ]
    },
    {
      "cell_type": "code",
      "metadata": {
        "colab": {
          "base_uri": "https://localhost:8080/"
        },
        "id": "owEpxSXn6Wns",
        "outputId": "7c98a800-26ae-48b1-b512-023af15b4e66"
      },
      "source": [
        "df.loc['Mar','spam']"
      ],
      "execution_count": null,
      "outputs": [
        {
          "output_type": "execute_result",
          "data": {
            "text/plain": [
              "72"
            ]
          },
          "metadata": {
            "tags": []
          },
          "execution_count": 46
        }
      ]
    },
    {
      "cell_type": "code",
      "metadata": {
        "colab": {
          "base_uri": "https://localhost:8080/"
        },
        "id": "0tWZ8Lta6Z37",
        "outputId": "012ff2fd-2adf-4ea6-a28b-aff245b72148"
      },
      "source": [
        "df.iloc[4,2]"
      ],
      "execution_count": null,
      "outputs": [
        {
          "output_type": "execute_result",
          "data": {
            "text/plain": [
              "52"
            ]
          },
          "metadata": {
            "tags": []
          },
          "execution_count": 43
        }
      ]
    },
    {
      "cell_type": "code",
      "metadata": {
        "colab": {
          "base_uri": "https://localhost:8080/"
        },
        "id": "dWpSSTDC6e2E",
        "outputId": "5c44323b-b4c7-4215-dc72-2c9205d7b314"
      },
      "source": [
        "df.iloc[1,1]"
      ],
      "execution_count": null,
      "outputs": [
        {
          "output_type": "execute_result",
          "data": {
            "text/plain": [
              "50.0"
            ]
          },
          "metadata": {
            "tags": []
          },
          "execution_count": 47
        }
      ]
    },
    {
      "cell_type": "code",
      "metadata": {
        "colab": {
          "base_uri": "https://localhost:8080/",
          "height": 263
        },
        "id": "bA7aHoFE8Luk",
        "outputId": "dfa6f9e4-4249-47f6-ff48-8f01be0338b0"
      },
      "source": [
        "df_new=df[['salt','eggs']]\r\n",
        "df_new"
      ],
      "execution_count": null,
      "outputs": [
        {
          "output_type": "execute_result",
          "data": {
            "text/html": [
              "<div>\n",
              "<style scoped>\n",
              "    .dataframe tbody tr th:only-of-type {\n",
              "        vertical-align: middle;\n",
              "    }\n",
              "\n",
              "    .dataframe tbody tr th {\n",
              "        vertical-align: top;\n",
              "    }\n",
              "\n",
              "    .dataframe thead th {\n",
              "        text-align: right;\n",
              "    }\n",
              "</style>\n",
              "<table border=\"1\" class=\"dataframe\">\n",
              "  <thead>\n",
              "    <tr style=\"text-align: right;\">\n",
              "      <th></th>\n",
              "      <th>salt</th>\n",
              "      <th>eggs</th>\n",
              "    </tr>\n",
              "    <tr>\n",
              "      <th>month</th>\n",
              "      <th></th>\n",
              "      <th></th>\n",
              "    </tr>\n",
              "  </thead>\n",
              "  <tbody>\n",
              "    <tr>\n",
              "      <th>Jan</th>\n",
              "      <td>12.0</td>\n",
              "      <td>47</td>\n",
              "    </tr>\n",
              "    <tr>\n",
              "      <th>Feb</th>\n",
              "      <td>50.0</td>\n",
              "      <td>110</td>\n",
              "    </tr>\n",
              "    <tr>\n",
              "      <th>Mar</th>\n",
              "      <td>89.0</td>\n",
              "      <td>221</td>\n",
              "    </tr>\n",
              "    <tr>\n",
              "      <th>Apr</th>\n",
              "      <td>87.0</td>\n",
              "      <td>77</td>\n",
              "    </tr>\n",
              "    <tr>\n",
              "      <th>May</th>\n",
              "      <td>NaN</td>\n",
              "      <td>132</td>\n",
              "    </tr>\n",
              "    <tr>\n",
              "      <th>Jun</th>\n",
              "      <td>60.0</td>\n",
              "      <td>205</td>\n",
              "    </tr>\n",
              "  </tbody>\n",
              "</table>\n",
              "</div>"
            ],
            "text/plain": [
              "       salt  eggs\n",
              "month            \n",
              "Jan    12.0    47\n",
              "Feb    50.0   110\n",
              "Mar    89.0   221\n",
              "Apr    87.0    77\n",
              "May     NaN   132\n",
              "Jun    60.0   205"
            ]
          },
          "metadata": {
            "tags": []
          },
          "execution_count": 48
        }
      ]
    },
    {
      "cell_type": "code",
      "metadata": {
        "colab": {
          "base_uri": "https://localhost:8080/",
          "height": 263
        },
        "id": "ZLfserJ98aIs",
        "outputId": "d0b77159-2e9b-43f7-fda3-a740db909f3c"
      },
      "source": [
        "df"
      ],
      "execution_count": null,
      "outputs": [
        {
          "output_type": "execute_result",
          "data": {
            "text/html": [
              "<div>\n",
              "<style scoped>\n",
              "    .dataframe tbody tr th:only-of-type {\n",
              "        vertical-align: middle;\n",
              "    }\n",
              "\n",
              "    .dataframe tbody tr th {\n",
              "        vertical-align: top;\n",
              "    }\n",
              "\n",
              "    .dataframe thead th {\n",
              "        text-align: right;\n",
              "    }\n",
              "</style>\n",
              "<table border=\"1\" class=\"dataframe\">\n",
              "  <thead>\n",
              "    <tr style=\"text-align: right;\">\n",
              "      <th></th>\n",
              "      <th>eggs</th>\n",
              "      <th>salt</th>\n",
              "      <th>spam</th>\n",
              "    </tr>\n",
              "    <tr>\n",
              "      <th>month</th>\n",
              "      <th></th>\n",
              "      <th></th>\n",
              "      <th></th>\n",
              "    </tr>\n",
              "  </thead>\n",
              "  <tbody>\n",
              "    <tr>\n",
              "      <th>Jan</th>\n",
              "      <td>47</td>\n",
              "      <td>12.0</td>\n",
              "      <td>17</td>\n",
              "    </tr>\n",
              "    <tr>\n",
              "      <th>Feb</th>\n",
              "      <td>110</td>\n",
              "      <td>50.0</td>\n",
              "      <td>31</td>\n",
              "    </tr>\n",
              "    <tr>\n",
              "      <th>Mar</th>\n",
              "      <td>221</td>\n",
              "      <td>89.0</td>\n",
              "      <td>72</td>\n",
              "    </tr>\n",
              "    <tr>\n",
              "      <th>Apr</th>\n",
              "      <td>77</td>\n",
              "      <td>87.0</td>\n",
              "      <td>20</td>\n",
              "    </tr>\n",
              "    <tr>\n",
              "      <th>May</th>\n",
              "      <td>132</td>\n",
              "      <td>NaN</td>\n",
              "      <td>52</td>\n",
              "    </tr>\n",
              "    <tr>\n",
              "      <th>Jun</th>\n",
              "      <td>205</td>\n",
              "      <td>60.0</td>\n",
              "      <td>55</td>\n",
              "    </tr>\n",
              "  </tbody>\n",
              "</table>\n",
              "</div>"
            ],
            "text/plain": [
              "       eggs  salt  spam\n",
              "month                  \n",
              "Jan      47  12.0    17\n",
              "Feb     110  50.0    31\n",
              "Mar     221  89.0    72\n",
              "Apr      77  87.0    20\n",
              "May     132   NaN    52\n",
              "Jun     205  60.0    55"
            ]
          },
          "metadata": {
            "tags": []
          },
          "execution_count": 49
        }
      ]
    },
    {
      "cell_type": "code",
      "metadata": {
        "colab": {
          "base_uri": "https://localhost:8080/"
        },
        "id": "5GqyZnNI8hNK",
        "outputId": "62dc4222-ff90-47a1-a138-e2e048603f28"
      },
      "source": [
        "df['eggs']"
      ],
      "execution_count": null,
      "outputs": [
        {
          "output_type": "execute_result",
          "data": {
            "text/plain": [
              "month\n",
              "Jan     47\n",
              "Feb    110\n",
              "Mar    221\n",
              "Apr     77\n",
              "May    132\n",
              "Jun    205\n",
              "Name: eggs, dtype: int64"
            ]
          },
          "metadata": {
            "tags": []
          },
          "execution_count": 50
        }
      ]
    },
    {
      "cell_type": "code",
      "metadata": {
        "colab": {
          "base_uri": "https://localhost:8080/"
        },
        "id": "7p88oehd8iu4",
        "outputId": "fe22153d-33e7-4b17-cfad-40266f5e83f3"
      },
      "source": [
        "df.dtypes"
      ],
      "execution_count": null,
      "outputs": [
        {
          "output_type": "execute_result",
          "data": {
            "text/plain": [
              "eggs      int64\n",
              "salt    float64\n",
              "spam      int64\n",
              "dtype: object"
            ]
          },
          "metadata": {
            "tags": []
          },
          "execution_count": 52
        }
      ]
    },
    {
      "cell_type": "code",
      "metadata": {
        "colab": {
          "base_uri": "https://localhost:8080/"
        },
        "id": "pn3bzCOZ8kpO",
        "outputId": "72b80441-43f7-44b4-ccff-2ff13bd52120"
      },
      "source": [
        "type(df['eggs'])"
      ],
      "execution_count": null,
      "outputs": [
        {
          "output_type": "execute_result",
          "data": {
            "text/plain": [
              "pandas.core.series.Series"
            ]
          },
          "metadata": {
            "tags": []
          },
          "execution_count": 54
        }
      ]
    },
    {
      "cell_type": "code",
      "metadata": {
        "colab": {
          "base_uri": "https://localhost:8080/"
        },
        "id": "Ng5Q-13P8v8Y",
        "outputId": "d49a868b-59ab-4c3d-d5ea-c9b77e3e669b"
      },
      "source": [
        "df['eggs'][1:4]"
      ],
      "execution_count": null,
      "outputs": [
        {
          "output_type": "execute_result",
          "data": {
            "text/plain": [
              "month\n",
              "Feb    110\n",
              "Mar    221\n",
              "Apr     77\n",
              "Name: eggs, dtype: int64"
            ]
          },
          "metadata": {
            "tags": []
          },
          "execution_count": 55
        }
      ]
    },
    {
      "cell_type": "code",
      "metadata": {
        "colab": {
          "base_uri": "https://localhost:8080/"
        },
        "id": "fJ3ZV7C087JT",
        "outputId": "4a072047-82ca-433f-e559-75b1b4316c9b"
      },
      "source": [
        "df['eggs'][4]"
      ],
      "execution_count": null,
      "outputs": [
        {
          "output_type": "execute_result",
          "data": {
            "text/plain": [
              "132"
            ]
          },
          "metadata": {
            "tags": []
          },
          "execution_count": 56
        }
      ]
    },
    {
      "cell_type": "code",
      "metadata": {
        "colab": {
          "base_uri": "https://localhost:8080/",
          "height": 263
        },
        "id": "Jbhw-9ed9Crj",
        "outputId": "42353eb3-f8b0-4da0-b7ef-c521d455373f"
      },
      "source": [
        "df.loc[:,'eggs':'salt']"
      ],
      "execution_count": null,
      "outputs": [
        {
          "output_type": "execute_result",
          "data": {
            "text/html": [
              "<div>\n",
              "<style scoped>\n",
              "    .dataframe tbody tr th:only-of-type {\n",
              "        vertical-align: middle;\n",
              "    }\n",
              "\n",
              "    .dataframe tbody tr th {\n",
              "        vertical-align: top;\n",
              "    }\n",
              "\n",
              "    .dataframe thead th {\n",
              "        text-align: right;\n",
              "    }\n",
              "</style>\n",
              "<table border=\"1\" class=\"dataframe\">\n",
              "  <thead>\n",
              "    <tr style=\"text-align: right;\">\n",
              "      <th></th>\n",
              "      <th>eggs</th>\n",
              "      <th>salt</th>\n",
              "    </tr>\n",
              "    <tr>\n",
              "      <th>month</th>\n",
              "      <th></th>\n",
              "      <th></th>\n",
              "    </tr>\n",
              "  </thead>\n",
              "  <tbody>\n",
              "    <tr>\n",
              "      <th>Jan</th>\n",
              "      <td>47</td>\n",
              "      <td>12.0</td>\n",
              "    </tr>\n",
              "    <tr>\n",
              "      <th>Feb</th>\n",
              "      <td>110</td>\n",
              "      <td>50.0</td>\n",
              "    </tr>\n",
              "    <tr>\n",
              "      <th>Mar</th>\n",
              "      <td>221</td>\n",
              "      <td>89.0</td>\n",
              "    </tr>\n",
              "    <tr>\n",
              "      <th>Apr</th>\n",
              "      <td>77</td>\n",
              "      <td>87.0</td>\n",
              "    </tr>\n",
              "    <tr>\n",
              "      <th>May</th>\n",
              "      <td>132</td>\n",
              "      <td>NaN</td>\n",
              "    </tr>\n",
              "    <tr>\n",
              "      <th>Jun</th>\n",
              "      <td>205</td>\n",
              "      <td>60.0</td>\n",
              "    </tr>\n",
              "  </tbody>\n",
              "</table>\n",
              "</div>"
            ],
            "text/plain": [
              "       eggs  salt\n",
              "month            \n",
              "Jan      47  12.0\n",
              "Feb     110  50.0\n",
              "Mar     221  89.0\n",
              "Apr      77  87.0\n",
              "May     132   NaN\n",
              "Jun     205  60.0"
            ]
          },
          "metadata": {
            "tags": []
          },
          "execution_count": 57
        }
      ]
    },
    {
      "cell_type": "code",
      "metadata": {
        "colab": {
          "base_uri": "https://localhost:8080/",
          "height": 202
        },
        "id": "iTYArjEm9MkW",
        "outputId": "a5674e58-7f81-4d44-b3a4-6424a7a74907"
      },
      "source": [
        "df.loc['Jan':'Apr',:]"
      ],
      "execution_count": null,
      "outputs": [
        {
          "output_type": "execute_result",
          "data": {
            "text/html": [
              "<div>\n",
              "<style scoped>\n",
              "    .dataframe tbody tr th:only-of-type {\n",
              "        vertical-align: middle;\n",
              "    }\n",
              "\n",
              "    .dataframe tbody tr th {\n",
              "        vertical-align: top;\n",
              "    }\n",
              "\n",
              "    .dataframe thead th {\n",
              "        text-align: right;\n",
              "    }\n",
              "</style>\n",
              "<table border=\"1\" class=\"dataframe\">\n",
              "  <thead>\n",
              "    <tr style=\"text-align: right;\">\n",
              "      <th></th>\n",
              "      <th>eggs</th>\n",
              "      <th>salt</th>\n",
              "      <th>spam</th>\n",
              "    </tr>\n",
              "    <tr>\n",
              "      <th>month</th>\n",
              "      <th></th>\n",
              "      <th></th>\n",
              "      <th></th>\n",
              "    </tr>\n",
              "  </thead>\n",
              "  <tbody>\n",
              "    <tr>\n",
              "      <th>Jan</th>\n",
              "      <td>47</td>\n",
              "      <td>12.0</td>\n",
              "      <td>17</td>\n",
              "    </tr>\n",
              "    <tr>\n",
              "      <th>Feb</th>\n",
              "      <td>110</td>\n",
              "      <td>50.0</td>\n",
              "      <td>31</td>\n",
              "    </tr>\n",
              "    <tr>\n",
              "      <th>Mar</th>\n",
              "      <td>221</td>\n",
              "      <td>89.0</td>\n",
              "      <td>72</td>\n",
              "    </tr>\n",
              "    <tr>\n",
              "      <th>Apr</th>\n",
              "      <td>77</td>\n",
              "      <td>87.0</td>\n",
              "      <td>20</td>\n",
              "    </tr>\n",
              "  </tbody>\n",
              "</table>\n",
              "</div>"
            ],
            "text/plain": [
              "       eggs  salt  spam\n",
              "month                  \n",
              "Jan      47  12.0    17\n",
              "Feb     110  50.0    31\n",
              "Mar     221  89.0    72\n",
              "Apr      77  87.0    20"
            ]
          },
          "metadata": {
            "tags": []
          },
          "execution_count": 58
        }
      ]
    },
    {
      "cell_type": "code",
      "metadata": {
        "colab": {
          "base_uri": "https://localhost:8080/",
          "height": 263
        },
        "id": "7kzab-7S9T4R",
        "outputId": "2a21d098-1913-480b-fd78-0f2bf157dc63"
      },
      "source": [
        "df"
      ],
      "execution_count": null,
      "outputs": [
        {
          "output_type": "execute_result",
          "data": {
            "text/html": [
              "<div>\n",
              "<style scoped>\n",
              "    .dataframe tbody tr th:only-of-type {\n",
              "        vertical-align: middle;\n",
              "    }\n",
              "\n",
              "    .dataframe tbody tr th {\n",
              "        vertical-align: top;\n",
              "    }\n",
              "\n",
              "    .dataframe thead th {\n",
              "        text-align: right;\n",
              "    }\n",
              "</style>\n",
              "<table border=\"1\" class=\"dataframe\">\n",
              "  <thead>\n",
              "    <tr style=\"text-align: right;\">\n",
              "      <th></th>\n",
              "      <th>eggs</th>\n",
              "      <th>salt</th>\n",
              "      <th>spam</th>\n",
              "    </tr>\n",
              "    <tr>\n",
              "      <th>month</th>\n",
              "      <th></th>\n",
              "      <th></th>\n",
              "      <th></th>\n",
              "    </tr>\n",
              "  </thead>\n",
              "  <tbody>\n",
              "    <tr>\n",
              "      <th>Jan</th>\n",
              "      <td>47</td>\n",
              "      <td>12.0</td>\n",
              "      <td>17</td>\n",
              "    </tr>\n",
              "    <tr>\n",
              "      <th>Feb</th>\n",
              "      <td>110</td>\n",
              "      <td>50.0</td>\n",
              "      <td>31</td>\n",
              "    </tr>\n",
              "    <tr>\n",
              "      <th>Mar</th>\n",
              "      <td>221</td>\n",
              "      <td>89.0</td>\n",
              "      <td>72</td>\n",
              "    </tr>\n",
              "    <tr>\n",
              "      <th>Apr</th>\n",
              "      <td>77</td>\n",
              "      <td>87.0</td>\n",
              "      <td>20</td>\n",
              "    </tr>\n",
              "    <tr>\n",
              "      <th>May</th>\n",
              "      <td>132</td>\n",
              "      <td>NaN</td>\n",
              "      <td>52</td>\n",
              "    </tr>\n",
              "    <tr>\n",
              "      <th>Jun</th>\n",
              "      <td>205</td>\n",
              "      <td>60.0</td>\n",
              "      <td>55</td>\n",
              "    </tr>\n",
              "  </tbody>\n",
              "</table>\n",
              "</div>"
            ],
            "text/plain": [
              "       eggs  salt  spam\n",
              "month                  \n",
              "Jan      47  12.0    17\n",
              "Feb     110  50.0    31\n",
              "Mar     221  89.0    72\n",
              "Apr      77  87.0    20\n",
              "May     132   NaN    52\n",
              "Jun     205  60.0    55"
            ]
          },
          "metadata": {
            "tags": []
          },
          "execution_count": 59
        }
      ]
    },
    {
      "cell_type": "code",
      "metadata": {
        "colab": {
          "base_uri": "https://localhost:8080/",
          "height": 171
        },
        "id": "11gcyF_b9YMP",
        "outputId": "17144855-a253-4110-9517-210facc0b71e"
      },
      "source": [
        "df.iloc[2:5,1:]"
      ],
      "execution_count": null,
      "outputs": [
        {
          "output_type": "execute_result",
          "data": {
            "text/html": [
              "<div>\n",
              "<style scoped>\n",
              "    .dataframe tbody tr th:only-of-type {\n",
              "        vertical-align: middle;\n",
              "    }\n",
              "\n",
              "    .dataframe tbody tr th {\n",
              "        vertical-align: top;\n",
              "    }\n",
              "\n",
              "    .dataframe thead th {\n",
              "        text-align: right;\n",
              "    }\n",
              "</style>\n",
              "<table border=\"1\" class=\"dataframe\">\n",
              "  <thead>\n",
              "    <tr style=\"text-align: right;\">\n",
              "      <th></th>\n",
              "      <th>salt</th>\n",
              "      <th>spam</th>\n",
              "    </tr>\n",
              "    <tr>\n",
              "      <th>month</th>\n",
              "      <th></th>\n",
              "      <th></th>\n",
              "    </tr>\n",
              "  </thead>\n",
              "  <tbody>\n",
              "    <tr>\n",
              "      <th>Mar</th>\n",
              "      <td>89.0</td>\n",
              "      <td>72</td>\n",
              "    </tr>\n",
              "    <tr>\n",
              "      <th>Apr</th>\n",
              "      <td>87.0</td>\n",
              "      <td>20</td>\n",
              "    </tr>\n",
              "    <tr>\n",
              "      <th>May</th>\n",
              "      <td>NaN</td>\n",
              "      <td>52</td>\n",
              "    </tr>\n",
              "  </tbody>\n",
              "</table>\n",
              "</div>"
            ],
            "text/plain": [
              "       salt  spam\n",
              "month            \n",
              "Mar    89.0    72\n",
              "Apr    87.0    20\n",
              "May     NaN    52"
            ]
          },
          "metadata": {
            "tags": []
          },
          "execution_count": 60
        }
      ]
    },
    {
      "cell_type": "code",
      "metadata": {
        "colab": {
          "base_uri": "https://localhost:8080/",
          "height": 232
        },
        "id": "ZJ_DkhQC9i64",
        "outputId": "977cce91-7e0a-45d4-ae1e-a52c92081c2f"
      },
      "source": [
        "df.loc['Jan':'May',['eggs','spam']]"
      ],
      "execution_count": null,
      "outputs": [
        {
          "output_type": "execute_result",
          "data": {
            "text/html": [
              "<div>\n",
              "<style scoped>\n",
              "    .dataframe tbody tr th:only-of-type {\n",
              "        vertical-align: middle;\n",
              "    }\n",
              "\n",
              "    .dataframe tbody tr th {\n",
              "        vertical-align: top;\n",
              "    }\n",
              "\n",
              "    .dataframe thead th {\n",
              "        text-align: right;\n",
              "    }\n",
              "</style>\n",
              "<table border=\"1\" class=\"dataframe\">\n",
              "  <thead>\n",
              "    <tr style=\"text-align: right;\">\n",
              "      <th></th>\n",
              "      <th>eggs</th>\n",
              "      <th>spam</th>\n",
              "    </tr>\n",
              "    <tr>\n",
              "      <th>month</th>\n",
              "      <th></th>\n",
              "      <th></th>\n",
              "    </tr>\n",
              "  </thead>\n",
              "  <tbody>\n",
              "    <tr>\n",
              "      <th>Jan</th>\n",
              "      <td>47</td>\n",
              "      <td>17</td>\n",
              "    </tr>\n",
              "    <tr>\n",
              "      <th>Feb</th>\n",
              "      <td>110</td>\n",
              "      <td>31</td>\n",
              "    </tr>\n",
              "    <tr>\n",
              "      <th>Mar</th>\n",
              "      <td>221</td>\n",
              "      <td>72</td>\n",
              "    </tr>\n",
              "    <tr>\n",
              "      <th>Apr</th>\n",
              "      <td>77</td>\n",
              "      <td>20</td>\n",
              "    </tr>\n",
              "    <tr>\n",
              "      <th>May</th>\n",
              "      <td>132</td>\n",
              "      <td>52</td>\n",
              "    </tr>\n",
              "  </tbody>\n",
              "</table>\n",
              "</div>"
            ],
            "text/plain": [
              "       eggs  spam\n",
              "month            \n",
              "Jan      47    17\n",
              "Feb     110    31\n",
              "Mar     221    72\n",
              "Apr      77    20\n",
              "May     132    52"
            ]
          },
          "metadata": {
            "tags": []
          },
          "execution_count": 61
        }
      ]
    },
    {
      "cell_type": "code",
      "metadata": {
        "colab": {
          "base_uri": "https://localhost:8080/",
          "height": 171
        },
        "id": "nIH6aZMZ9uEl",
        "outputId": "f467064e-2ac8-4b30-ebff-f7e04f2f7b4a"
      },
      "source": [
        "df.iloc[[0,4,5],0:2]"
      ],
      "execution_count": null,
      "outputs": [
        {
          "output_type": "execute_result",
          "data": {
            "text/html": [
              "<div>\n",
              "<style scoped>\n",
              "    .dataframe tbody tr th:only-of-type {\n",
              "        vertical-align: middle;\n",
              "    }\n",
              "\n",
              "    .dataframe tbody tr th {\n",
              "        vertical-align: top;\n",
              "    }\n",
              "\n",
              "    .dataframe thead th {\n",
              "        text-align: right;\n",
              "    }\n",
              "</style>\n",
              "<table border=\"1\" class=\"dataframe\">\n",
              "  <thead>\n",
              "    <tr style=\"text-align: right;\">\n",
              "      <th></th>\n",
              "      <th>eggs</th>\n",
              "      <th>salt</th>\n",
              "    </tr>\n",
              "    <tr>\n",
              "      <th>month</th>\n",
              "      <th></th>\n",
              "      <th></th>\n",
              "    </tr>\n",
              "  </thead>\n",
              "  <tbody>\n",
              "    <tr>\n",
              "      <th>Jan</th>\n",
              "      <td>47</td>\n",
              "      <td>12.0</td>\n",
              "    </tr>\n",
              "    <tr>\n",
              "      <th>May</th>\n",
              "      <td>132</td>\n",
              "      <td>NaN</td>\n",
              "    </tr>\n",
              "    <tr>\n",
              "      <th>Jun</th>\n",
              "      <td>205</td>\n",
              "      <td>60.0</td>\n",
              "    </tr>\n",
              "  </tbody>\n",
              "</table>\n",
              "</div>"
            ],
            "text/plain": [
              "       eggs  salt\n",
              "month            \n",
              "Jan      47  12.0\n",
              "May     132   NaN\n",
              "Jun     205  60.0"
            ]
          },
          "metadata": {
            "tags": []
          },
          "execution_count": 62
        }
      ]
    },
    {
      "cell_type": "code",
      "metadata": {
        "colab": {
          "base_uri": "https://localhost:8080/"
        },
        "id": "782NxsZr91RP",
        "outputId": "e9c95afa-dc56-4be0-aefd-131e318eb3cd"
      },
      "source": [
        "df.salt>60"
      ],
      "execution_count": null,
      "outputs": [
        {
          "output_type": "execute_result",
          "data": {
            "text/plain": [
              "month\n",
              "Jan    False\n",
              "Feb    False\n",
              "Mar     True\n",
              "Apr     True\n",
              "May    False\n",
              "Jun    False\n",
              "Name: salt, dtype: bool"
            ]
          },
          "metadata": {
            "tags": []
          },
          "execution_count": 63
        }
      ]
    },
    {
      "cell_type": "code",
      "metadata": {
        "colab": {
          "base_uri": "https://localhost:8080/",
          "height": 140
        },
        "id": "cPlShNmM94uh",
        "outputId": "49fb7f31-7b75-41e7-9a08-46f1f052d641"
      },
      "source": [
        "df[df.salt > 60]"
      ],
      "execution_count": null,
      "outputs": [
        {
          "output_type": "execute_result",
          "data": {
            "text/html": [
              "<div>\n",
              "<style scoped>\n",
              "    .dataframe tbody tr th:only-of-type {\n",
              "        vertical-align: middle;\n",
              "    }\n",
              "\n",
              "    .dataframe tbody tr th {\n",
              "        vertical-align: top;\n",
              "    }\n",
              "\n",
              "    .dataframe thead th {\n",
              "        text-align: right;\n",
              "    }\n",
              "</style>\n",
              "<table border=\"1\" class=\"dataframe\">\n",
              "  <thead>\n",
              "    <tr style=\"text-align: right;\">\n",
              "      <th></th>\n",
              "      <th>eggs</th>\n",
              "      <th>salt</th>\n",
              "      <th>spam</th>\n",
              "    </tr>\n",
              "    <tr>\n",
              "      <th>month</th>\n",
              "      <th></th>\n",
              "      <th></th>\n",
              "      <th></th>\n",
              "    </tr>\n",
              "  </thead>\n",
              "  <tbody>\n",
              "    <tr>\n",
              "      <th>Mar</th>\n",
              "      <td>221</td>\n",
              "      <td>89.0</td>\n",
              "      <td>72</td>\n",
              "    </tr>\n",
              "    <tr>\n",
              "      <th>Apr</th>\n",
              "      <td>77</td>\n",
              "      <td>87.0</td>\n",
              "      <td>20</td>\n",
              "    </tr>\n",
              "  </tbody>\n",
              "</table>\n",
              "</div>"
            ],
            "text/plain": [
              "       eggs  salt  spam\n",
              "month                  \n",
              "Mar     221  89.0    72\n",
              "Apr      77  87.0    20"
            ]
          },
          "metadata": {
            "tags": []
          },
          "execution_count": 64
        }
      ]
    },
    {
      "cell_type": "code",
      "metadata": {
        "id": "CDbt__xL-AFm"
      },
      "source": [
        "enough_Salt_sold = df.salt > 60"
      ],
      "execution_count": null,
      "outputs": []
    },
    {
      "cell_type": "code",
      "metadata": {
        "colab": {
          "base_uri": "https://localhost:8080/"
        },
        "id": "_PexTGSa-Fa9",
        "outputId": "a45f6009-a5aa-4a33-b0a5-cace14344cfe"
      },
      "source": [
        "enough_Salt_sold"
      ],
      "execution_count": null,
      "outputs": [
        {
          "output_type": "execute_result",
          "data": {
            "text/plain": [
              "month\n",
              "Jan    False\n",
              "Feb    False\n",
              "Mar     True\n",
              "Apr     True\n",
              "May    False\n",
              "Jun    False\n",
              "Name: salt, dtype: bool"
            ]
          },
          "metadata": {
            "tags": []
          },
          "execution_count": 66
        }
      ]
    },
    {
      "cell_type": "code",
      "metadata": {
        "colab": {
          "base_uri": "https://localhost:8080/",
          "height": 140
        },
        "id": "yAJPyDTz-Hm5",
        "outputId": "670745e5-751b-4d9a-aa19-716e44a63ce2"
      },
      "source": [
        "df[enough_Salt_sold]"
      ],
      "execution_count": null,
      "outputs": [
        {
          "output_type": "execute_result",
          "data": {
            "text/html": [
              "<div>\n",
              "<style scoped>\n",
              "    .dataframe tbody tr th:only-of-type {\n",
              "        vertical-align: middle;\n",
              "    }\n",
              "\n",
              "    .dataframe tbody tr th {\n",
              "        vertical-align: top;\n",
              "    }\n",
              "\n",
              "    .dataframe thead th {\n",
              "        text-align: right;\n",
              "    }\n",
              "</style>\n",
              "<table border=\"1\" class=\"dataframe\">\n",
              "  <thead>\n",
              "    <tr style=\"text-align: right;\">\n",
              "      <th></th>\n",
              "      <th>eggs</th>\n",
              "      <th>salt</th>\n",
              "      <th>spam</th>\n",
              "    </tr>\n",
              "    <tr>\n",
              "      <th>month</th>\n",
              "      <th></th>\n",
              "      <th></th>\n",
              "      <th></th>\n",
              "    </tr>\n",
              "  </thead>\n",
              "  <tbody>\n",
              "    <tr>\n",
              "      <th>Mar</th>\n",
              "      <td>221</td>\n",
              "      <td>89.0</td>\n",
              "      <td>72</td>\n",
              "    </tr>\n",
              "    <tr>\n",
              "      <th>Apr</th>\n",
              "      <td>77</td>\n",
              "      <td>87.0</td>\n",
              "      <td>20</td>\n",
              "    </tr>\n",
              "  </tbody>\n",
              "</table>\n",
              "</div>"
            ],
            "text/plain": [
              "       eggs  salt  spam\n",
              "month                  \n",
              "Mar     221  89.0    72\n",
              "Apr      77  87.0    20"
            ]
          },
          "metadata": {
            "tags": []
          },
          "execution_count": 67
        }
      ]
    },
    {
      "cell_type": "code",
      "metadata": {
        "colab": {
          "base_uri": "https://localhost:8080/",
          "height": 140
        },
        "id": "G-Z9v8Gi-Jcp",
        "outputId": "a6205f51-d745-47fa-f35b-0ae3d05ff1ea"
      },
      "source": [
        "df[(df.salt>=50) & (df.eggs <200)]"
      ],
      "execution_count": null,
      "outputs": [
        {
          "output_type": "execute_result",
          "data": {
            "text/html": [
              "<div>\n",
              "<style scoped>\n",
              "    .dataframe tbody tr th:only-of-type {\n",
              "        vertical-align: middle;\n",
              "    }\n",
              "\n",
              "    .dataframe tbody tr th {\n",
              "        vertical-align: top;\n",
              "    }\n",
              "\n",
              "    .dataframe thead th {\n",
              "        text-align: right;\n",
              "    }\n",
              "</style>\n",
              "<table border=\"1\" class=\"dataframe\">\n",
              "  <thead>\n",
              "    <tr style=\"text-align: right;\">\n",
              "      <th></th>\n",
              "      <th>eggs</th>\n",
              "      <th>salt</th>\n",
              "      <th>spam</th>\n",
              "    </tr>\n",
              "    <tr>\n",
              "      <th>month</th>\n",
              "      <th></th>\n",
              "      <th></th>\n",
              "      <th></th>\n",
              "    </tr>\n",
              "  </thead>\n",
              "  <tbody>\n",
              "    <tr>\n",
              "      <th>Feb</th>\n",
              "      <td>110</td>\n",
              "      <td>50.0</td>\n",
              "      <td>31</td>\n",
              "    </tr>\n",
              "    <tr>\n",
              "      <th>Apr</th>\n",
              "      <td>77</td>\n",
              "      <td>87.0</td>\n",
              "      <td>20</td>\n",
              "    </tr>\n",
              "  </tbody>\n",
              "</table>\n",
              "</div>"
            ],
            "text/plain": [
              "       eggs  salt  spam\n",
              "month                  \n",
              "Feb     110  50.0    31\n",
              "Apr      77  87.0    20"
            ]
          },
          "metadata": {
            "tags": []
          },
          "execution_count": 68
        }
      ]
    },
    {
      "cell_type": "code",
      "metadata": {
        "colab": {
          "base_uri": "https://localhost:8080/",
          "height": 263
        },
        "id": "pqLl6-2H-Yqe",
        "outputId": "1984e523-39d5-4060-bf65-e664ef9524c5"
      },
      "source": [
        "df[(df.salt>=50) | (df.eggs <200)]"
      ],
      "execution_count": null,
      "outputs": [
        {
          "output_type": "execute_result",
          "data": {
            "text/html": [
              "<div>\n",
              "<style scoped>\n",
              "    .dataframe tbody tr th:only-of-type {\n",
              "        vertical-align: middle;\n",
              "    }\n",
              "\n",
              "    .dataframe tbody tr th {\n",
              "        vertical-align: top;\n",
              "    }\n",
              "\n",
              "    .dataframe thead th {\n",
              "        text-align: right;\n",
              "    }\n",
              "</style>\n",
              "<table border=\"1\" class=\"dataframe\">\n",
              "  <thead>\n",
              "    <tr style=\"text-align: right;\">\n",
              "      <th></th>\n",
              "      <th>eggs</th>\n",
              "      <th>salt</th>\n",
              "      <th>spam</th>\n",
              "    </tr>\n",
              "    <tr>\n",
              "      <th>month</th>\n",
              "      <th></th>\n",
              "      <th></th>\n",
              "      <th></th>\n",
              "    </tr>\n",
              "  </thead>\n",
              "  <tbody>\n",
              "    <tr>\n",
              "      <th>Jan</th>\n",
              "      <td>47</td>\n",
              "      <td>12.0</td>\n",
              "      <td>17</td>\n",
              "    </tr>\n",
              "    <tr>\n",
              "      <th>Feb</th>\n",
              "      <td>110</td>\n",
              "      <td>50.0</td>\n",
              "      <td>31</td>\n",
              "    </tr>\n",
              "    <tr>\n",
              "      <th>Mar</th>\n",
              "      <td>221</td>\n",
              "      <td>89.0</td>\n",
              "      <td>72</td>\n",
              "    </tr>\n",
              "    <tr>\n",
              "      <th>Apr</th>\n",
              "      <td>77</td>\n",
              "      <td>87.0</td>\n",
              "      <td>20</td>\n",
              "    </tr>\n",
              "    <tr>\n",
              "      <th>May</th>\n",
              "      <td>132</td>\n",
              "      <td>NaN</td>\n",
              "      <td>52</td>\n",
              "    </tr>\n",
              "    <tr>\n",
              "      <th>Jun</th>\n",
              "      <td>205</td>\n",
              "      <td>60.0</td>\n",
              "      <td>55</td>\n",
              "    </tr>\n",
              "  </tbody>\n",
              "</table>\n",
              "</div>"
            ],
            "text/plain": [
              "       eggs  salt  spam\n",
              "month                  \n",
              "Jan      47  12.0    17\n",
              "Feb     110  50.0    31\n",
              "Mar     221  89.0    72\n",
              "Apr      77  87.0    20\n",
              "May     132   NaN    52\n",
              "Jun     205  60.0    55"
            ]
          },
          "metadata": {
            "tags": []
          },
          "execution_count": 69
        }
      ]
    },
    {
      "cell_type": "code",
      "metadata": {
        "colab": {
          "base_uri": "https://localhost:8080/"
        },
        "id": "NeJtFO0b-cvV",
        "outputId": "26055ec9-f2ee-441b-b632-fdd6cbfce3c5"
      },
      "source": [
        "df.eggs[df.salt>55\r\n",
        "        ]"
      ],
      "execution_count": null,
      "outputs": [
        {
          "output_type": "execute_result",
          "data": {
            "text/plain": [
              "month\n",
              "Mar    221\n",
              "Apr     77\n",
              "Jun    205\n",
              "Name: eggs, dtype: int64"
            ]
          },
          "metadata": {
            "tags": []
          },
          "execution_count": 70
        }
      ]
    },
    {
      "cell_type": "code",
      "metadata": {
        "colab": {
          "base_uri": "https://localhost:8080/",
          "height": 415
        },
        "id": "Ql5syMih-h3U",
        "outputId": "8a626526-f3b2-424f-81a2-03fddcb9340e"
      },
      "source": [
        "import pandas as pd\r\n",
        "df1= pd.read_csv('literary_birth_rate.csv',sep=';', thousands=',')\r\n",
        "df1"
      ],
      "execution_count": null,
      "outputs": [
        {
          "output_type": "execute_result",
          "data": {
            "text/html": [
              "<div>\n",
              "<style scoped>\n",
              "    .dataframe tbody tr th:only-of-type {\n",
              "        vertical-align: middle;\n",
              "    }\n",
              "\n",
              "    .dataframe tbody tr th {\n",
              "        vertical-align: top;\n",
              "    }\n",
              "\n",
              "    .dataframe thead th {\n",
              "        text-align: right;\n",
              "    }\n",
              "</style>\n",
              "<table border=\"1\" class=\"dataframe\">\n",
              "  <thead>\n",
              "    <tr style=\"text-align: right;\">\n",
              "      <th></th>\n",
              "      <th>Country</th>\n",
              "      <th>Continent</th>\n",
              "      <th>female literacy</th>\n",
              "      <th>fertility</th>\n",
              "      <th>population</th>\n",
              "    </tr>\n",
              "  </thead>\n",
              "  <tbody>\n",
              "    <tr>\n",
              "      <th>0</th>\n",
              "      <td>Chine</td>\n",
              "      <td>ASI</td>\n",
              "      <td>90.5</td>\n",
              "      <td>1.769</td>\n",
              "      <td>1324655000</td>\n",
              "    </tr>\n",
              "    <tr>\n",
              "      <th>1</th>\n",
              "      <td>Inde</td>\n",
              "      <td>ASI</td>\n",
              "      <td>50.8</td>\n",
              "      <td>2.682</td>\n",
              "      <td>1139964932</td>\n",
              "    </tr>\n",
              "    <tr>\n",
              "      <th>2</th>\n",
              "      <td>USA</td>\n",
              "      <td>NAM</td>\n",
              "      <td>99.0</td>\n",
              "      <td>2.077</td>\n",
              "      <td>304060000</td>\n",
              "    </tr>\n",
              "    <tr>\n",
              "      <th>3</th>\n",
              "      <td>Indonésie</td>\n",
              "      <td>ASI</td>\n",
              "      <td>88.8</td>\n",
              "      <td>2.132</td>\n",
              "      <td>227345082</td>\n",
              "    </tr>\n",
              "    <tr>\n",
              "      <th>4</th>\n",
              "      <td>Brésil</td>\n",
              "      <td>LAT</td>\n",
              "      <td>90.2</td>\n",
              "      <td>1.827</td>\n",
              "      <td>191971506</td>\n",
              "    </tr>\n",
              "    <tr>\n",
              "      <th>...</th>\n",
              "      <td>...</td>\n",
              "      <td>...</td>\n",
              "      <td>...</td>\n",
              "      <td>...</td>\n",
              "      <td>...</td>\n",
              "    </tr>\n",
              "    <tr>\n",
              "      <th>157</th>\n",
              "      <td>Vanuatu</td>\n",
              "      <td>OCE</td>\n",
              "      <td>79.5</td>\n",
              "      <td>3.883</td>\n",
              "      <td>233866</td>\n",
              "    </tr>\n",
              "    <tr>\n",
              "      <th>158</th>\n",
              "      <td>Samoa</td>\n",
              "      <td>OCE</td>\n",
              "      <td>98.5</td>\n",
              "      <td>3.852</td>\n",
              "      <td>178869</td>\n",
              "    </tr>\n",
              "    <tr>\n",
              "      <th>159</th>\n",
              "      <td>Sao Tomé-et-Principe</td>\n",
              "      <td>AF</td>\n",
              "      <td>83.3</td>\n",
              "      <td>3.718</td>\n",
              "      <td>160174</td>\n",
              "    </tr>\n",
              "    <tr>\n",
              "      <th>160</th>\n",
              "      <td>Aruba</td>\n",
              "      <td>LAT</td>\n",
              "      <td>98.0</td>\n",
              "      <td>1.732</td>\n",
              "      <td>105455</td>\n",
              "    </tr>\n",
              "    <tr>\n",
              "      <th>161</th>\n",
              "      <td>Tonga</td>\n",
              "      <td>ASI</td>\n",
              "      <td>99.1</td>\n",
              "      <td>3.928</td>\n",
              "      <td>103566</td>\n",
              "    </tr>\n",
              "  </tbody>\n",
              "</table>\n",
              "<p>162 rows × 5 columns</p>\n",
              "</div>"
            ],
            "text/plain": [
              "                 Country  Continent  female literacy  fertility  population\n",
              "0                   Chine       ASI             90.5      1.769  1324655000\n",
              "1                    Inde       ASI             50.8      2.682  1139964932\n",
              "2                     USA       NAM             99.0      2.077   304060000\n",
              "3               Indonésie       ASI             88.8      2.132   227345082\n",
              "4                  Brésil       LAT             90.2      1.827   191971506\n",
              "..                    ...       ...              ...        ...         ...\n",
              "157               Vanuatu       OCE             79.5      3.883      233866\n",
              "158                 Samoa       OCE             98.5      3.852      178869\n",
              "159  Sao Tomé-et-Principe        AF             83.3      3.718      160174\n",
              "160                 Aruba       LAT             98.0      1.732      105455\n",
              "161                 Tonga       ASI             99.1      3.928      103566\n",
              "\n",
              "[162 rows x 5 columns]"
            ]
          },
          "metadata": {
            "tags": []
          },
          "execution_count": 71
        }
      ]
    },
    {
      "cell_type": "code",
      "metadata": {
        "colab": {
          "base_uri": "https://localhost:8080/",
          "height": 202
        },
        "id": "2wOOgf0j-7ER",
        "outputId": "f17b8642-8d8d-41da-cbf1-43c050078e64"
      },
      "source": [
        "df1.head()"
      ],
      "execution_count": null,
      "outputs": [
        {
          "output_type": "execute_result",
          "data": {
            "text/html": [
              "<div>\n",
              "<style scoped>\n",
              "    .dataframe tbody tr th:only-of-type {\n",
              "        vertical-align: middle;\n",
              "    }\n",
              "\n",
              "    .dataframe tbody tr th {\n",
              "        vertical-align: top;\n",
              "    }\n",
              "\n",
              "    .dataframe thead th {\n",
              "        text-align: right;\n",
              "    }\n",
              "</style>\n",
              "<table border=\"1\" class=\"dataframe\">\n",
              "  <thead>\n",
              "    <tr style=\"text-align: right;\">\n",
              "      <th></th>\n",
              "      <th>Country</th>\n",
              "      <th>Continent</th>\n",
              "      <th>female literacy</th>\n",
              "      <th>fertility</th>\n",
              "      <th>population</th>\n",
              "    </tr>\n",
              "  </thead>\n",
              "  <tbody>\n",
              "    <tr>\n",
              "      <th>0</th>\n",
              "      <td>Chine</td>\n",
              "      <td>ASI</td>\n",
              "      <td>90.5</td>\n",
              "      <td>1.769</td>\n",
              "      <td>1324655000</td>\n",
              "    </tr>\n",
              "    <tr>\n",
              "      <th>1</th>\n",
              "      <td>Inde</td>\n",
              "      <td>ASI</td>\n",
              "      <td>50.8</td>\n",
              "      <td>2.682</td>\n",
              "      <td>1139964932</td>\n",
              "    </tr>\n",
              "    <tr>\n",
              "      <th>2</th>\n",
              "      <td>USA</td>\n",
              "      <td>NAM</td>\n",
              "      <td>99.0</td>\n",
              "      <td>2.077</td>\n",
              "      <td>304060000</td>\n",
              "    </tr>\n",
              "    <tr>\n",
              "      <th>3</th>\n",
              "      <td>Indonésie</td>\n",
              "      <td>ASI</td>\n",
              "      <td>88.8</td>\n",
              "      <td>2.132</td>\n",
              "      <td>227345082</td>\n",
              "    </tr>\n",
              "    <tr>\n",
              "      <th>4</th>\n",
              "      <td>Brésil</td>\n",
              "      <td>LAT</td>\n",
              "      <td>90.2</td>\n",
              "      <td>1.827</td>\n",
              "      <td>191971506</td>\n",
              "    </tr>\n",
              "  </tbody>\n",
              "</table>\n",
              "</div>"
            ],
            "text/plain": [
              "    Country  Continent  female literacy  fertility  population\n",
              "0      Chine       ASI             90.5      1.769  1324655000\n",
              "1       Inde       ASI             50.8      2.682  1139964932\n",
              "2        USA       NAM             99.0      2.077   304060000\n",
              "3  Indonésie       ASI             88.8      2.132   227345082\n",
              "4     Brésil       LAT             90.2      1.827   191971506"
            ]
          },
          "metadata": {
            "tags": []
          },
          "execution_count": 72
        }
      ]
    },
    {
      "cell_type": "code",
      "metadata": {
        "colab": {
          "base_uri": "https://localhost:8080/",
          "height": 202
        },
        "id": "qvr9fG59_Nku",
        "outputId": "9c157edc-626d-4212-c5b4-740e5167f8fe"
      },
      "source": [
        "df1.tail()"
      ],
      "execution_count": null,
      "outputs": [
        {
          "output_type": "execute_result",
          "data": {
            "text/html": [
              "<div>\n",
              "<style scoped>\n",
              "    .dataframe tbody tr th:only-of-type {\n",
              "        vertical-align: middle;\n",
              "    }\n",
              "\n",
              "    .dataframe tbody tr th {\n",
              "        vertical-align: top;\n",
              "    }\n",
              "\n",
              "    .dataframe thead th {\n",
              "        text-align: right;\n",
              "    }\n",
              "</style>\n",
              "<table border=\"1\" class=\"dataframe\">\n",
              "  <thead>\n",
              "    <tr style=\"text-align: right;\">\n",
              "      <th></th>\n",
              "      <th>Country</th>\n",
              "      <th>Continent</th>\n",
              "      <th>female literacy</th>\n",
              "      <th>fertility</th>\n",
              "      <th>population</th>\n",
              "    </tr>\n",
              "  </thead>\n",
              "  <tbody>\n",
              "    <tr>\n",
              "      <th>157</th>\n",
              "      <td>Vanuatu</td>\n",
              "      <td>OCE</td>\n",
              "      <td>79.5</td>\n",
              "      <td>3.883</td>\n",
              "      <td>233866</td>\n",
              "    </tr>\n",
              "    <tr>\n",
              "      <th>158</th>\n",
              "      <td>Samoa</td>\n",
              "      <td>OCE</td>\n",
              "      <td>98.5</td>\n",
              "      <td>3.852</td>\n",
              "      <td>178869</td>\n",
              "    </tr>\n",
              "    <tr>\n",
              "      <th>159</th>\n",
              "      <td>Sao Tomé-et-Principe</td>\n",
              "      <td>AF</td>\n",
              "      <td>83.3</td>\n",
              "      <td>3.718</td>\n",
              "      <td>160174</td>\n",
              "    </tr>\n",
              "    <tr>\n",
              "      <th>160</th>\n",
              "      <td>Aruba</td>\n",
              "      <td>LAT</td>\n",
              "      <td>98.0</td>\n",
              "      <td>1.732</td>\n",
              "      <td>105455</td>\n",
              "    </tr>\n",
              "    <tr>\n",
              "      <th>161</th>\n",
              "      <td>Tonga</td>\n",
              "      <td>ASI</td>\n",
              "      <td>99.1</td>\n",
              "      <td>3.928</td>\n",
              "      <td>103566</td>\n",
              "    </tr>\n",
              "  </tbody>\n",
              "</table>\n",
              "</div>"
            ],
            "text/plain": [
              "                 Country  Continent  female literacy  fertility  population\n",
              "157               Vanuatu       OCE             79.5      3.883      233866\n",
              "158                 Samoa       OCE             98.5      3.852      178869\n",
              "159  Sao Tomé-et-Principe        AF             83.3      3.718      160174\n",
              "160                 Aruba       LAT             98.0      1.732      105455\n",
              "161                 Tonga       ASI             99.1      3.928      103566"
            ]
          },
          "metadata": {
            "tags": []
          },
          "execution_count": 73
        }
      ]
    },
    {
      "cell_type": "code",
      "metadata": {
        "colab": {
          "base_uri": "https://localhost:8080/"
        },
        "id": "xfmfhoNu_RNw",
        "outputId": "d6ac813d-0668-4d06-b5fc-6571e1363b9d"
      },
      "source": [
        "df1.columns"
      ],
      "execution_count": null,
      "outputs": [
        {
          "output_type": "execute_result",
          "data": {
            "text/plain": [
              "Index(['Country ', 'Continent', 'female literacy', 'fertility', 'population'], dtype='object')"
            ]
          },
          "metadata": {
            "tags": []
          },
          "execution_count": 74
        }
      ]
    },
    {
      "cell_type": "code",
      "metadata": {
        "colab": {
          "base_uri": "https://localhost:8080/"
        },
        "id": "UizNQYZf_yXa",
        "outputId": "47782f02-df1a-476c-dc14-e357c9a1d279"
      },
      "source": [
        "df1.columns"
      ],
      "execution_count": null,
      "outputs": [
        {
          "output_type": "execute_result",
          "data": {
            "text/plain": [
              "Index(['Country ', 'Continent', 'female literacy', 'fertility', 'population'], dtype='object')"
            ]
          },
          "metadata": {
            "tags": []
          },
          "execution_count": 76
        }
      ]
    },
    {
      "cell_type": "code",
      "metadata": {
        "colab": {
          "base_uri": "https://localhost:8080/"
        },
        "id": "TlAMRRbV_04E",
        "outputId": "b74bd7fd-1552-4f93-fb68-dc9967df1590"
      },
      "source": [
        "df1.shape"
      ],
      "execution_count": null,
      "outputs": [
        {
          "output_type": "execute_result",
          "data": {
            "text/plain": [
              "(162, 5)"
            ]
          },
          "metadata": {
            "tags": []
          },
          "execution_count": 78
        }
      ]
    },
    {
      "cell_type": "code",
      "metadata": {
        "colab": {
          "base_uri": "https://localhost:8080/"
        },
        "id": "TQdmUeeu_6tb",
        "outputId": "67dcb4f3-a56d-4704-e639-f1c09a2d9604"
      },
      "source": [
        "df1.info()"
      ],
      "execution_count": null,
      "outputs": [
        {
          "output_type": "stream",
          "text": [
            "<class 'pandas.core.frame.DataFrame'>\n",
            "RangeIndex: 162 entries, 0 to 161\n",
            "Data columns (total 5 columns):\n",
            " #   Column           Non-Null Count  Dtype  \n",
            "---  ------           --------------  -----  \n",
            " 0   Country          162 non-null    object \n",
            " 1   Continent        162 non-null    object \n",
            " 2   female literacy  162 non-null    float64\n",
            " 3   fertility        162 non-null    float64\n",
            " 4   population       162 non-null    int64  \n",
            "dtypes: float64(2), int64(1), object(2)\n",
            "memory usage: 6.5+ KB\n"
          ],
          "name": "stdout"
        }
      ]
    },
    {
      "cell_type": "code",
      "metadata": {
        "colab": {
          "base_uri": "https://localhost:8080/"
        },
        "id": "782B5a-O__3j",
        "outputId": "309c1578-c9d0-421a-ccf4-5e74a0c2e295"
      },
      "source": [
        "df1.dtypes"
      ],
      "execution_count": null,
      "outputs": [
        {
          "output_type": "execute_result",
          "data": {
            "text/plain": [
              "Country             object\n",
              "Continent           object\n",
              "female literacy    float64\n",
              "fertility          float64\n",
              "population           int64\n",
              "dtype: object"
            ]
          },
          "metadata": {
            "tags": []
          },
          "execution_count": 81
        }
      ]
    },
    {
      "cell_type": "code",
      "metadata": {
        "colab": {
          "base_uri": "https://localhost:8080/"
        },
        "id": "VzIOTckXAH0l",
        "outputId": "c0c1136f-2dae-4fbf-9eed-e9e96e6c743b"
      },
      "source": [
        "df1.value_counts()"
      ],
      "execution_count": null,
      "outputs": [
        {
          "output_type": "execute_result",
          "data": {
            "text/plain": [
              "Country             Continent  female literacy  fertility  population\n",
              "Zimbabwe            AF         88.8             3.363      12462879      1\n",
              "Egypte              AF         57.8             2.816      81527172      1\n",
              "Guinée équatoriale  AF         89.1             5.283      659197        1\n",
              "Guinée              AF         26.4             5.329      9833055       1\n",
              "Guatemala           LAT        68.7             4.018      13686128      1\n",
              "                                                                        ..\n",
              "Népal               ASI        45.4             2.823      28809526      1\n",
              "Norway              EUR        100.0            1.885      4768212       1\n",
              "Nigéria             AF         48.8             5.173      151212254     1\n",
              "Niger               AF         15.1             7.069      14704318      1\n",
              "Afghanistan         ASI        12.6             6.505      29021099      1\n",
              "Length: 162, dtype: int64"
            ]
          },
          "metadata": {
            "tags": []
          },
          "execution_count": 83
        }
      ]
    },
    {
      "cell_type": "code",
      "metadata": {
        "colab": {
          "base_uri": "https://localhost:8080/"
        },
        "id": "kcyp-8VPAQWO",
        "outputId": "00730c7e-cdb9-4681-de78-c8fb359946ee"
      },
      "source": [
        "df1.Continent.value_counts(dropna=False)"
      ],
      "execution_count": null,
      "outputs": [
        {
          "output_type": "execute_result",
          "data": {
            "text/plain": [
              "AF     49\n",
              "ASI    47\n",
              "EUR    36\n",
              "LAT    24\n",
              "OCE     4\n",
              "NAM     2\n",
              "Name: Continent, dtype: int64"
            ]
          },
          "metadata": {
            "tags": []
          },
          "execution_count": 88
        }
      ]
    },
    {
      "cell_type": "code",
      "metadata": {
        "colab": {
          "base_uri": "https://localhost:8080/"
        },
        "id": "rXjP3Z4CAsYj",
        "outputId": "90c2c12f-7b7c-4916-bde1-d3040f5c46d5"
      },
      "source": [
        "df1.Continent.value_counts(dropna=True)"
      ],
      "execution_count": null,
      "outputs": [
        {
          "output_type": "execute_result",
          "data": {
            "text/plain": [
              "AF     49\n",
              "ASI    47\n",
              "EUR    36\n",
              "LAT    24\n",
              "OCE     4\n",
              "NAM     2\n",
              "Name: Continent, dtype: int64"
            ]
          },
          "metadata": {
            "tags": []
          },
          "execution_count": 89
        }
      ]
    },
    {
      "cell_type": "code",
      "metadata": {
        "colab": {
          "base_uri": "https://localhost:8080/"
        },
        "id": "50VklU14A4VN",
        "outputId": "623a67ca-5dab-4a17-dd88-14caec84f345"
      },
      "source": [
        "df1['Continent'].value_counts(dropna=False)"
      ],
      "execution_count": null,
      "outputs": [
        {
          "output_type": "execute_result",
          "data": {
            "text/plain": [
              "AF     49\n",
              "ASI    47\n",
              "EUR    36\n",
              "LAT    24\n",
              "OCE     4\n",
              "NAM     2\n",
              "Name: Continent, dtype: int64"
            ]
          },
          "metadata": {
            "tags": []
          },
          "execution_count": 91
        }
      ]
    },
    {
      "cell_type": "code",
      "metadata": {
        "colab": {
          "base_uri": "https://localhost:8080/",
          "height": 294
        },
        "id": "KwgfFgzkBEFj",
        "outputId": "66c3737a-29f9-4709-c47e-949879fed74e"
      },
      "source": [
        "df1.describe()"
      ],
      "execution_count": null,
      "outputs": [
        {
          "output_type": "execute_result",
          "data": {
            "text/html": [
              "<div>\n",
              "<style scoped>\n",
              "    .dataframe tbody tr th:only-of-type {\n",
              "        vertical-align: middle;\n",
              "    }\n",
              "\n",
              "    .dataframe tbody tr th {\n",
              "        vertical-align: top;\n",
              "    }\n",
              "\n",
              "    .dataframe thead th {\n",
              "        text-align: right;\n",
              "    }\n",
              "</style>\n",
              "<table border=\"1\" class=\"dataframe\">\n",
              "  <thead>\n",
              "    <tr style=\"text-align: right;\">\n",
              "      <th></th>\n",
              "      <th>female literacy</th>\n",
              "      <th>fertility</th>\n",
              "      <th>population</th>\n",
              "    </tr>\n",
              "  </thead>\n",
              "  <tbody>\n",
              "    <tr>\n",
              "      <th>count</th>\n",
              "      <td>162.000000</td>\n",
              "      <td>162.000000</td>\n",
              "      <td>1.620000e+02</td>\n",
              "    </tr>\n",
              "    <tr>\n",
              "      <th>mean</th>\n",
              "      <td>80.107407</td>\n",
              "      <td>2.878673</td>\n",
              "      <td>4.068708e+07</td>\n",
              "    </tr>\n",
              "    <tr>\n",
              "      <th>std</th>\n",
              "      <td>23.052415</td>\n",
              "      <td>1.427597</td>\n",
              "      <td>1.409695e+08</td>\n",
              "    </tr>\n",
              "    <tr>\n",
              "      <th>min</th>\n",
              "      <td>12.600000</td>\n",
              "      <td>0.966000</td>\n",
              "      <td>1.035660e+05</td>\n",
              "    </tr>\n",
              "    <tr>\n",
              "      <th>25%</th>\n",
              "      <td>66.425000</td>\n",
              "      <td>1.823250</td>\n",
              "      <td>3.368292e+06</td>\n",
              "    </tr>\n",
              "    <tr>\n",
              "      <th>50%</th>\n",
              "      <td>90.000000</td>\n",
              "      <td>2.367500</td>\n",
              "      <td>9.707404e+06</td>\n",
              "    </tr>\n",
              "    <tr>\n",
              "      <th>75%</th>\n",
              "      <td>98.500000</td>\n",
              "      <td>3.880250</td>\n",
              "      <td>2.882991e+07</td>\n",
              "    </tr>\n",
              "    <tr>\n",
              "      <th>max</th>\n",
              "      <td>100.000000</td>\n",
              "      <td>7.069000</td>\n",
              "      <td>1.324655e+09</td>\n",
              "    </tr>\n",
              "  </tbody>\n",
              "</table>\n",
              "</div>"
            ],
            "text/plain": [
              "       female literacy   fertility    population\n",
              "count       162.000000  162.000000  1.620000e+02\n",
              "mean         80.107407    2.878673  4.068708e+07\n",
              "std          23.052415    1.427597  1.409695e+08\n",
              "min          12.600000    0.966000  1.035660e+05\n",
              "25%          66.425000    1.823250  3.368292e+06\n",
              "50%          90.000000    2.367500  9.707404e+06\n",
              "75%          98.500000    3.880250  2.882991e+07\n",
              "max         100.000000    7.069000  1.324655e+09"
            ]
          },
          "metadata": {
            "tags": []
          },
          "execution_count": 93
        }
      ]
    },
    {
      "cell_type": "code",
      "metadata": {
        "colab": {
          "base_uri": "https://localhost:8080/",
          "height": 298
        },
        "id": "hQMP0HOXBMO5",
        "outputId": "3a600a80-1d2a-49e7-bf9b-5e8ad8815bea"
      },
      "source": [
        "df1.population.plot(kind='hist')"
      ],
      "execution_count": null,
      "outputs": [
        {
          "output_type": "execute_result",
          "data": {
            "text/plain": [
              "<matplotlib.axes._subplots.AxesSubplot at 0x7f56c2583400>"
            ]
          },
          "metadata": {
            "tags": []
          },
          "execution_count": 94
        },
        {
          "output_type": "display_data",
          "data": {
            "image/png": "[encoded data removed]",
            "text/plain": [
              "<Figure size 432x288 with 1 Axes>"
            ]
          },
          "metadata": {
            "tags": [],
            "needs_background": "light"
          }
        }
      ]
    },
    {
      "cell_type": "code",
      "metadata": {
        "id": "99oUeaGZBf3B"
      },
      "source": [
        "import matplotlib.pyplot as plt\r\n",
        "plt.show()"
      ],
      "execution_count": null,
      "outputs": []
    },
    {
      "cell_type": "code",
      "metadata": {
        "colab": {
          "base_uri": "https://localhost:8080/",
          "height": 373
        },
        "id": "g0LwogZ6Bq6W",
        "outputId": "c1d2c342-a6dd-4f6a-8309-7a1837c14a32"
      },
      "source": [
        "df1.boxplot(column='population', by='Continent')"
      ],
      "execution_count": null,
      "outputs": [
        {
          "output_type": "stream",
          "text": [
            "/usr/local/lib/python3.6/dist-packages/numpy/core/_asarray.py:83: VisibleDeprecationWarning: Creating an ndarray from ragged nested sequences (which is a list-or-tuple of lists-or-tuples-or ndarrays with different lengths or shapes) is deprecated. If you meant to do this, you must specify 'dtype=object' when creating the ndarray\n",
            "  return array(a, dtype, copy=False, order=order)\n"
          ],
          "name": "stderr"
        },
        {
          "output_type": "execute_result",
          "data": {
            "text/plain": [
              "<matplotlib.axes._subplots.AxesSubplot at 0x7f56c28697f0>"
            ]
          },
          "metadata": {
            "tags": []
          },
          "execution_count": 97
        },
        {
          "output_type": "display_data",
          "data": {
            "image/png": "[encoded data removed]",
            "text/plain": [
              "<Figure size 432x288 with 1 Axes>"
            ]
          },
          "metadata": {
            "tags": [],
            "needs_background": "light"
          }
        }
      ]
    },
    {
      "cell_type": "code",
      "metadata": {
        "id": "yzE44iYrB0dW"
      },
      "source": [
        "plt.show()"
      ],
      "execution_count": null,
      "outputs": []
    },
    {
      "cell_type": "code",
      "metadata": {
        "id": "bnKmqrgHCEN9"
      },
      "source": [
        "df2 = pd.read_csv('user_device.csv')"
      ],
      "execution_count": null,
      "outputs": []
    },
    {
      "cell_type": "code",
      "metadata": {
        "colab": {
          "base_uri": "https://localhost:8080/",
          "height": 415
        },
        "id": "JUr_uYuMCfiR",
        "outputId": "4be2c9dc-f5fb-47de-b350-0d1f6028324b"
      },
      "source": [
        "df2"
      ],
      "execution_count": null,
      "outputs": [
        {
          "output_type": "execute_result",
          "data": {
            "text/html": [
              "<div>\n",
              "<style scoped>\n",
              "    .dataframe tbody tr th:only-of-type {\n",
              "        vertical-align: middle;\n",
              "    }\n",
              "\n",
              "    .dataframe tbody tr th {\n",
              "        vertical-align: top;\n",
              "    }\n",
              "\n",
              "    .dataframe thead th {\n",
              "        text-align: right;\n",
              "    }\n",
              "</style>\n",
              "<table border=\"1\" class=\"dataframe\">\n",
              "  <thead>\n",
              "    <tr style=\"text-align: right;\">\n",
              "      <th></th>\n",
              "      <th>use_id</th>\n",
              "      <th>user_id</th>\n",
              "      <th>platform</th>\n",
              "      <th>platform_version</th>\n",
              "      <th>device</th>\n",
              "      <th>use_type_id</th>\n",
              "    </tr>\n",
              "  </thead>\n",
              "  <tbody>\n",
              "    <tr>\n",
              "      <th>0</th>\n",
              "      <td>22782</td>\n",
              "      <td>26980</td>\n",
              "      <td>ios</td>\n",
              "      <td>10.2</td>\n",
              "      <td>iPhone7,2</td>\n",
              "      <td>2</td>\n",
              "    </tr>\n",
              "    <tr>\n",
              "      <th>1</th>\n",
              "      <td>22783</td>\n",
              "      <td>29628</td>\n",
              "      <td>android</td>\n",
              "      <td>6.0</td>\n",
              "      <td>Nexus 5</td>\n",
              "      <td>3</td>\n",
              "    </tr>\n",
              "    <tr>\n",
              "      <th>2</th>\n",
              "      <td>22784</td>\n",
              "      <td>28473</td>\n",
              "      <td>android</td>\n",
              "      <td>5.1</td>\n",
              "      <td>SM-G903F</td>\n",
              "      <td>1</td>\n",
              "    </tr>\n",
              "    <tr>\n",
              "      <th>3</th>\n",
              "      <td>22785</td>\n",
              "      <td>15200</td>\n",
              "      <td>ios</td>\n",
              "      <td>10.2</td>\n",
              "      <td>iPhone7,2</td>\n",
              "      <td>3</td>\n",
              "    </tr>\n",
              "    <tr>\n",
              "      <th>4</th>\n",
              "      <td>22786</td>\n",
              "      <td>28239</td>\n",
              "      <td>android</td>\n",
              "      <td>6.0</td>\n",
              "      <td>ONE E1003</td>\n",
              "      <td>1</td>\n",
              "    </tr>\n",
              "    <tr>\n",
              "      <th>...</th>\n",
              "      <td>...</td>\n",
              "      <td>...</td>\n",
              "      <td>...</td>\n",
              "      <td>...</td>\n",
              "      <td>...</td>\n",
              "      <td>...</td>\n",
              "    </tr>\n",
              "    <tr>\n",
              "      <th>267</th>\n",
              "      <td>23049</td>\n",
              "      <td>29725</td>\n",
              "      <td>android</td>\n",
              "      <td>6.0</td>\n",
              "      <td>SM-G900F</td>\n",
              "      <td>1</td>\n",
              "    </tr>\n",
              "    <tr>\n",
              "      <th>268</th>\n",
              "      <td>23050</td>\n",
              "      <td>29726</td>\n",
              "      <td>ios</td>\n",
              "      <td>10.2</td>\n",
              "      <td>iPhone7,2</td>\n",
              "      <td>3</td>\n",
              "    </tr>\n",
              "    <tr>\n",
              "      <th>269</th>\n",
              "      <td>23051</td>\n",
              "      <td>29726</td>\n",
              "      <td>ios</td>\n",
              "      <td>10.2</td>\n",
              "      <td>iPhone7,2</td>\n",
              "      <td>3</td>\n",
              "    </tr>\n",
              "    <tr>\n",
              "      <th>270</th>\n",
              "      <td>23052</td>\n",
              "      <td>29727</td>\n",
              "      <td>ios</td>\n",
              "      <td>10.1</td>\n",
              "      <td>iPhone8,4</td>\n",
              "      <td>3</td>\n",
              "    </tr>\n",
              "    <tr>\n",
              "      <th>271</th>\n",
              "      <td>23053</td>\n",
              "      <td>20257</td>\n",
              "      <td>android</td>\n",
              "      <td>5.1</td>\n",
              "      <td>Vodafone Smart ultra 6</td>\n",
              "      <td>1</td>\n",
              "    </tr>\n",
              "  </tbody>\n",
              "</table>\n",
              "<p>272 rows × 6 columns</p>\n",
              "</div>"
            ],
            "text/plain": [
              "     use_id  user_id  ...                  device  use_type_id\n",
              "0     22782    26980  ...               iPhone7,2            2\n",
              "1     22783    29628  ...                 Nexus 5            3\n",
              "2     22784    28473  ...                SM-G903F            1\n",
              "3     22785    15200  ...               iPhone7,2            3\n",
              "4     22786    28239  ...               ONE E1003            1\n",
              "..      ...      ...  ...                     ...          ...\n",
              "267   23049    29725  ...                SM-G900F            1\n",
              "268   23050    29726  ...               iPhone7,2            3\n",
              "269   23051    29726  ...               iPhone7,2            3\n",
              "270   23052    29727  ...               iPhone8,4            3\n",
              "271   23053    20257  ...  Vodafone Smart ultra 6            1\n",
              "\n",
              "[272 rows x 6 columns]"
            ]
          },
          "metadata": {
            "tags": []
          },
          "execution_count": 101
        }
      ]
    },
    {
      "cell_type": "code",
      "metadata": {
        "id": "z30kz5OuCi0j"
      },
      "source": [
        "df3 = pd.read_csv('user_usage.csv')"
      ],
      "execution_count": null,
      "outputs": []
    },
    {
      "cell_type": "code",
      "metadata": {
        "colab": {
          "base_uri": "https://localhost:8080/",
          "height": 415
        },
        "id": "SrQ2ciIwCpvH",
        "outputId": "36333f24-cf38-474c-ef57-1f69aaefdd10"
      },
      "source": [
        "df3"
      ],
      "execution_count": null,
      "outputs": [
        {
          "output_type": "execute_result",
          "data": {
            "text/html": [
              "<div>\n",
              "<style scoped>\n",
              "    .dataframe tbody tr th:only-of-type {\n",
              "        vertical-align: middle;\n",
              "    }\n",
              "\n",
              "    .dataframe tbody tr th {\n",
              "        vertical-align: top;\n",
              "    }\n",
              "\n",
              "    .dataframe thead th {\n",
              "        text-align: right;\n",
              "    }\n",
              "</style>\n",
              "<table border=\"1\" class=\"dataframe\">\n",
              "  <thead>\n",
              "    <tr style=\"text-align: right;\">\n",
              "      <th></th>\n",
              "      <th>outgoing_mins_per_month</th>\n",
              "      <th>outgoing_sms_per_month</th>\n",
              "      <th>monthly_mb</th>\n",
              "      <th>use_id</th>\n",
              "    </tr>\n",
              "  </thead>\n",
              "  <tbody>\n",
              "    <tr>\n",
              "      <th>0</th>\n",
              "      <td>21.97</td>\n",
              "      <td>4.82</td>\n",
              "      <td>1557.33</td>\n",
              "      <td>22787</td>\n",
              "    </tr>\n",
              "    <tr>\n",
              "      <th>1</th>\n",
              "      <td>1710.08</td>\n",
              "      <td>136.88</td>\n",
              "      <td>7267.55</td>\n",
              "      <td>22788</td>\n",
              "    </tr>\n",
              "    <tr>\n",
              "      <th>2</th>\n",
              "      <td>1710.08</td>\n",
              "      <td>136.88</td>\n",
              "      <td>7267.55</td>\n",
              "      <td>22789</td>\n",
              "    </tr>\n",
              "    <tr>\n",
              "      <th>3</th>\n",
              "      <td>94.46</td>\n",
              "      <td>35.17</td>\n",
              "      <td>519.12</td>\n",
              "      <td>22790</td>\n",
              "    </tr>\n",
              "    <tr>\n",
              "      <th>4</th>\n",
              "      <td>71.59</td>\n",
              "      <td>79.26</td>\n",
              "      <td>1557.33</td>\n",
              "      <td>22792</td>\n",
              "    </tr>\n",
              "    <tr>\n",
              "      <th>...</th>\n",
              "      <td>...</td>\n",
              "      <td>...</td>\n",
              "      <td>...</td>\n",
              "      <td>...</td>\n",
              "    </tr>\n",
              "    <tr>\n",
              "      <th>235</th>\n",
              "      <td>260.66</td>\n",
              "      <td>68.44</td>\n",
              "      <td>896.96</td>\n",
              "      <td>25008</td>\n",
              "    </tr>\n",
              "    <tr>\n",
              "      <th>236</th>\n",
              "      <td>97.12</td>\n",
              "      <td>36.50</td>\n",
              "      <td>2815.00</td>\n",
              "      <td>25040</td>\n",
              "    </tr>\n",
              "    <tr>\n",
              "      <th>237</th>\n",
              "      <td>355.93</td>\n",
              "      <td>12.37</td>\n",
              "      <td>6828.09</td>\n",
              "      <td>25046</td>\n",
              "    </tr>\n",
              "    <tr>\n",
              "      <th>238</th>\n",
              "      <td>632.06</td>\n",
              "      <td>120.46</td>\n",
              "      <td>1453.16</td>\n",
              "      <td>25058</td>\n",
              "    </tr>\n",
              "    <tr>\n",
              "      <th>239</th>\n",
              "      <td>488.70</td>\n",
              "      <td>906.92</td>\n",
              "      <td>3089.85</td>\n",
              "      <td>25220</td>\n",
              "    </tr>\n",
              "  </tbody>\n",
              "</table>\n",
              "<p>240 rows × 4 columns</p>\n",
              "</div>"
            ],
            "text/plain": [
              "     outgoing_mins_per_month  outgoing_sms_per_month  monthly_mb  use_id\n",
              "0                      21.97                    4.82     1557.33   22787\n",
              "1                    1710.08                  136.88     7267.55   22788\n",
              "2                    1710.08                  136.88     7267.55   22789\n",
              "3                      94.46                   35.17      519.12   22790\n",
              "4                      71.59                   79.26     1557.33   22792\n",
              "..                       ...                     ...         ...     ...\n",
              "235                   260.66                   68.44      896.96   25008\n",
              "236                    97.12                   36.50     2815.00   25040\n",
              "237                   355.93                   12.37     6828.09   25046\n",
              "238                   632.06                  120.46     1453.16   25058\n",
              "239                   488.70                  906.92     3089.85   25220\n",
              "\n",
              "[240 rows x 4 columns]"
            ]
          },
          "metadata": {
            "tags": []
          },
          "execution_count": 103
        }
      ]
    },
    {
      "cell_type": "code",
      "metadata": {
        "colab": {
          "base_uri": "https://localhost:8080/",
          "height": 202
        },
        "id": "EmIcqMXGCqf-",
        "outputId": "527a27fe-3d6d-4e65-e77d-7971e0bcb460"
      },
      "source": [
        "df2.head()"
      ],
      "execution_count": null,
      "outputs": [
        {
          "output_type": "execute_result",
          "data": {
            "text/html": [
              "<div>\n",
              "<style scoped>\n",
              "    .dataframe tbody tr th:only-of-type {\n",
              "        vertical-align: middle;\n",
              "    }\n",
              "\n",
              "    .dataframe tbody tr th {\n",
              "        vertical-align: top;\n",
              "    }\n",
              "\n",
              "    .dataframe thead th {\n",
              "        text-align: right;\n",
              "    }\n",
              "</style>\n",
              "<table border=\"1\" class=\"dataframe\">\n",
              "  <thead>\n",
              "    <tr style=\"text-align: right;\">\n",
              "      <th></th>\n",
              "      <th>use_id</th>\n",
              "      <th>user_id</th>\n",
              "      <th>platform</th>\n",
              "      <th>platform_version</th>\n",
              "      <th>device</th>\n",
              "      <th>use_type_id</th>\n",
              "    </tr>\n",
              "  </thead>\n",
              "  <tbody>\n",
              "    <tr>\n",
              "      <th>0</th>\n",
              "      <td>22782</td>\n",
              "      <td>26980</td>\n",
              "      <td>ios</td>\n",
              "      <td>10.2</td>\n",
              "      <td>iPhone7,2</td>\n",
              "      <td>2</td>\n",
              "    </tr>\n",
              "    <tr>\n",
              "      <th>1</th>\n",
              "      <td>22783</td>\n",
              "      <td>29628</td>\n",
              "      <td>android</td>\n",
              "      <td>6.0</td>\n",
              "      <td>Nexus 5</td>\n",
              "      <td>3</td>\n",
              "    </tr>\n",
              "    <tr>\n",
              "      <th>2</th>\n",
              "      <td>22784</td>\n",
              "      <td>28473</td>\n",
              "      <td>android</td>\n",
              "      <td>5.1</td>\n",
              "      <td>SM-G903F</td>\n",
              "      <td>1</td>\n",
              "    </tr>\n",
              "    <tr>\n",
              "      <th>3</th>\n",
              "      <td>22785</td>\n",
              "      <td>15200</td>\n",
              "      <td>ios</td>\n",
              "      <td>10.2</td>\n",
              "      <td>iPhone7,2</td>\n",
              "      <td>3</td>\n",
              "    </tr>\n",
              "    <tr>\n",
              "      <th>4</th>\n",
              "      <td>22786</td>\n",
              "      <td>28239</td>\n",
              "      <td>android</td>\n",
              "      <td>6.0</td>\n",
              "      <td>ONE E1003</td>\n",
              "      <td>1</td>\n",
              "    </tr>\n",
              "  </tbody>\n",
              "</table>\n",
              "</div>"
            ],
            "text/plain": [
              "   use_id  user_id platform  platform_version     device  use_type_id\n",
              "0   22782    26980      ios              10.2  iPhone7,2            2\n",
              "1   22783    29628  android               6.0    Nexus 5            3\n",
              "2   22784    28473  android               5.1   SM-G903F            1\n",
              "3   22785    15200      ios              10.2  iPhone7,2            3\n",
              "4   22786    28239  android               6.0  ONE E1003            1"
            ]
          },
          "metadata": {
            "tags": []
          },
          "execution_count": 104
        }
      ]
    },
    {
      "cell_type": "code",
      "metadata": {
        "colab": {
          "base_uri": "https://localhost:8080/",
          "height": 202
        },
        "id": "ZMZ2348RCu1W",
        "outputId": "26f6be21-f18c-4738-dd53-c80c55d44eea"
      },
      "source": [
        "df3.head()"
      ],
      "execution_count": null,
      "outputs": [
        {
          "output_type": "execute_result",
          "data": {
            "text/html": [
              "<div>\n",
              "<style scoped>\n",
              "    .dataframe tbody tr th:only-of-type {\n",
              "        vertical-align: middle;\n",
              "    }\n",
              "\n",
              "    .dataframe tbody tr th {\n",
              "        vertical-align: top;\n",
              "    }\n",
              "\n",
              "    .dataframe thead th {\n",
              "        text-align: right;\n",
              "    }\n",
              "</style>\n",
              "<table border=\"1\" class=\"dataframe\">\n",
              "  <thead>\n",
              "    <tr style=\"text-align: right;\">\n",
              "      <th></th>\n",
              "      <th>outgoing_mins_per_month</th>\n",
              "      <th>outgoing_sms_per_month</th>\n",
              "      <th>monthly_mb</th>\n",
              "      <th>use_id</th>\n",
              "    </tr>\n",
              "  </thead>\n",
              "  <tbody>\n",
              "    <tr>\n",
              "      <th>0</th>\n",
              "      <td>21.97</td>\n",
              "      <td>4.82</td>\n",
              "      <td>1557.33</td>\n",
              "      <td>22787</td>\n",
              "    </tr>\n",
              "    <tr>\n",
              "      <th>1</th>\n",
              "      <td>1710.08</td>\n",
              "      <td>136.88</td>\n",
              "      <td>7267.55</td>\n",
              "      <td>22788</td>\n",
              "    </tr>\n",
              "    <tr>\n",
              "      <th>2</th>\n",
              "      <td>1710.08</td>\n",
              "      <td>136.88</td>\n",
              "      <td>7267.55</td>\n",
              "      <td>22789</td>\n",
              "    </tr>\n",
              "    <tr>\n",
              "      <th>3</th>\n",
              "      <td>94.46</td>\n",
              "      <td>35.17</td>\n",
              "      <td>519.12</td>\n",
              "      <td>22790</td>\n",
              "    </tr>\n",
              "    <tr>\n",
              "      <th>4</th>\n",
              "      <td>71.59</td>\n",
              "      <td>79.26</td>\n",
              "      <td>1557.33</td>\n",
              "      <td>22792</td>\n",
              "    </tr>\n",
              "  </tbody>\n",
              "</table>\n",
              "</div>"
            ],
            "text/plain": [
              "   outgoing_mins_per_month  outgoing_sms_per_month  monthly_mb  use_id\n",
              "0                    21.97                    4.82     1557.33   22787\n",
              "1                  1710.08                  136.88     7267.55   22788\n",
              "2                  1710.08                  136.88     7267.55   22789\n",
              "3                    94.46                   35.17      519.12   22790\n",
              "4                    71.59                   79.26     1557.33   22792"
            ]
          },
          "metadata": {
            "tags": []
          },
          "execution_count": 105
        }
      ]
    },
    {
      "cell_type": "code",
      "metadata": {
        "colab": {
          "base_uri": "https://localhost:8080/",
          "height": 415
        },
        "id": "A5LXgZFLDLsy",
        "outputId": "910ffc9d-3d15-4a99-b4e2-ff30719bc31f"
      },
      "source": [
        "result = pd.merge(df3,df2[['use_id','platform','device']], on ='use_id')\r\n",
        "result"
      ],
      "execution_count": null,
      "outputs": [
        {
          "output_type": "execute_result",
          "data": {
            "text/html": [
              "<div>\n",
              "<style scoped>\n",
              "    .dataframe tbody tr th:only-of-type {\n",
              "        vertical-align: middle;\n",
              "    }\n",
              "\n",
              "    .dataframe tbody tr th {\n",
              "        vertical-align: top;\n",
              "    }\n",
              "\n",
              "    .dataframe thead th {\n",
              "        text-align: right;\n",
              "    }\n",
              "</style>\n",
              "<table border=\"1\" class=\"dataframe\">\n",
              "  <thead>\n",
              "    <tr style=\"text-align: right;\">\n",
              "      <th></th>\n",
              "      <th>outgoing_mins_per_month</th>\n",
              "      <th>outgoing_sms_per_month</th>\n",
              "      <th>monthly_mb</th>\n",
              "      <th>use_id</th>\n",
              "      <th>platform</th>\n",
              "      <th>device</th>\n",
              "    </tr>\n",
              "  </thead>\n",
              "  <tbody>\n",
              "    <tr>\n",
              "      <th>0</th>\n",
              "      <td>21.97</td>\n",
              "      <td>4.82</td>\n",
              "      <td>1557.33</td>\n",
              "      <td>22787</td>\n",
              "      <td>android</td>\n",
              "      <td>GT-I9505</td>\n",
              "    </tr>\n",
              "    <tr>\n",
              "      <th>1</th>\n",
              "      <td>1710.08</td>\n",
              "      <td>136.88</td>\n",
              "      <td>7267.55</td>\n",
              "      <td>22788</td>\n",
              "      <td>android</td>\n",
              "      <td>SM-G930F</td>\n",
              "    </tr>\n",
              "    <tr>\n",
              "      <th>2</th>\n",
              "      <td>1710.08</td>\n",
              "      <td>136.88</td>\n",
              "      <td>7267.55</td>\n",
              "      <td>22789</td>\n",
              "      <td>android</td>\n",
              "      <td>SM-G930F</td>\n",
              "    </tr>\n",
              "    <tr>\n",
              "      <th>3</th>\n",
              "      <td>94.46</td>\n",
              "      <td>35.17</td>\n",
              "      <td>519.12</td>\n",
              "      <td>22790</td>\n",
              "      <td>android</td>\n",
              "      <td>D2303</td>\n",
              "    </tr>\n",
              "    <tr>\n",
              "      <th>4</th>\n",
              "      <td>71.59</td>\n",
              "      <td>79.26</td>\n",
              "      <td>1557.33</td>\n",
              "      <td>22792</td>\n",
              "      <td>android</td>\n",
              "      <td>SM-G361F</td>\n",
              "    </tr>\n",
              "    <tr>\n",
              "      <th>...</th>\n",
              "      <td>...</td>\n",
              "      <td>...</td>\n",
              "      <td>...</td>\n",
              "      <td>...</td>\n",
              "      <td>...</td>\n",
              "      <td>...</td>\n",
              "    </tr>\n",
              "    <tr>\n",
              "      <th>154</th>\n",
              "      <td>198.59</td>\n",
              "      <td>90.49</td>\n",
              "      <td>5191.12</td>\n",
              "      <td>23043</td>\n",
              "      <td>android</td>\n",
              "      <td>SM-G900F</td>\n",
              "    </tr>\n",
              "    <tr>\n",
              "      <th>155</th>\n",
              "      <td>198.59</td>\n",
              "      <td>90.49</td>\n",
              "      <td>3114.67</td>\n",
              "      <td>23044</td>\n",
              "      <td>android</td>\n",
              "      <td>SM-G900F</td>\n",
              "    </tr>\n",
              "    <tr>\n",
              "      <th>156</th>\n",
              "      <td>106.65</td>\n",
              "      <td>82.13</td>\n",
              "      <td>5191.12</td>\n",
              "      <td>23046</td>\n",
              "      <td>android</td>\n",
              "      <td>Moto G (4)</td>\n",
              "    </tr>\n",
              "    <tr>\n",
              "      <th>157</th>\n",
              "      <td>344.53</td>\n",
              "      <td>20.53</td>\n",
              "      <td>519.12</td>\n",
              "      <td>23049</td>\n",
              "      <td>android</td>\n",
              "      <td>SM-G900F</td>\n",
              "    </tr>\n",
              "    <tr>\n",
              "      <th>158</th>\n",
              "      <td>42.75</td>\n",
              "      <td>46.83</td>\n",
              "      <td>5191.12</td>\n",
              "      <td>23053</td>\n",
              "      <td>android</td>\n",
              "      <td>Vodafone Smart ultra 6</td>\n",
              "    </tr>\n",
              "  </tbody>\n",
              "</table>\n",
              "<p>159 rows × 6 columns</p>\n",
              "</div>"
            ],
            "text/plain": [
              "     outgoing_mins_per_month  ...                  device\n",
              "0                      21.97  ...                GT-I9505\n",
              "1                    1710.08  ...                SM-G930F\n",
              "2                    1710.08  ...                SM-G930F\n",
              "3                      94.46  ...                   D2303\n",
              "4                      71.59  ...                SM-G361F\n",
              "..                       ...  ...                     ...\n",
              "154                   198.59  ...                SM-G900F\n",
              "155                   198.59  ...                SM-G900F\n",
              "156                   106.65  ...              Moto G (4)\n",
              "157                   344.53  ...                SM-G900F\n",
              "158                    42.75  ...  Vodafone Smart ultra 6\n",
              "\n",
              "[159 rows x 6 columns]"
            ]
          },
          "metadata": {
            "tags": []
          },
          "execution_count": 106
        }
      ]
    },
    {
      "cell_type": "code",
      "metadata": {
        "id": "rMDjYUXLDjUe"
      },
      "source": [
        ""
      ],
      "execution_count": null,
      "outputs": []
    }
  ]
}